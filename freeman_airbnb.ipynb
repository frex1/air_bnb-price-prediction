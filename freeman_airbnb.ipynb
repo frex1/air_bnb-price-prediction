{
 "cells": [
  {
   "cell_type": "code",
   "execution_count": 4,
   "metadata": {},
   "outputs": [],
   "source": [
    "# Suppress Warnings\n",
    "import warnings\n",
    "warnings.filterwarnings('ignore')"
   ]
  },
  {
   "cell_type": "markdown",
   "metadata": {},
   "source": [
    "# Get Data"
   ]
  },
  {
   "cell_type": "code",
   "execution_count": 92,
   "metadata": {},
   "outputs": [],
   "source": [
    "# Import relevant libraries\n",
    "import pandas as pd\n",
    "import numpy as np\n",
    "import matplotlib.pyplot as plt\n",
    "import seaborn as sns\n",
    "%matplotlib inline"
   ]
  },
  {
   "cell_type": "code",
   "execution_count": 6,
   "metadata": {},
   "outputs": [],
   "source": [
    "dataset = pd.read_csv('listings.csv.gz', compression = 'gzip')"
   ]
  },
  {
   "cell_type": "markdown",
   "metadata": {},
   "source": [
    "# Data Preprocessing\n",
    "Familiarizing ourselves with the data content would help us do better analysis and modelling. There are 106 columns, but we will try to drop the ones that do not carry useful information for our analysis or modelling process. We will start by scanning through the columns."
   ]
  },
  {
   "cell_type": "code",
   "execution_count": 7,
   "metadata": {},
   "outputs": [
    {
     "data": {
      "text/plain": [
       "(20677, 106)"
      ]
     },
     "execution_count": 7,
     "metadata": {},
     "output_type": "execute_result"
    }
   ],
   "source": [
    "dataset.shape"
   ]
  },
  {
   "cell_type": "code",
   "execution_count": 8,
   "metadata": {},
   "outputs": [
    {
     "data": {
      "text/html": [
       "<div>\n",
       "<style scoped>\n",
       "    .dataframe tbody tr th:only-of-type {\n",
       "        vertical-align: middle;\n",
       "    }\n",
       "\n",
       "    .dataframe tbody tr th {\n",
       "        vertical-align: top;\n",
       "    }\n",
       "\n",
       "    .dataframe thead th {\n",
       "        text-align: right;\n",
       "    }\n",
       "</style>\n",
       "<table border=\"1\" class=\"dataframe\">\n",
       "  <thead>\n",
       "    <tr style=\"text-align: right;\">\n",
       "      <th></th>\n",
       "      <th>id</th>\n",
       "      <th>listing_url</th>\n",
       "      <th>scrape_id</th>\n",
       "      <th>last_scraped</th>\n",
       "      <th>name</th>\n",
       "      <th>summary</th>\n",
       "      <th>space</th>\n",
       "      <th>description</th>\n",
       "      <th>experiences_offered</th>\n",
       "      <th>neighborhood_overview</th>\n",
       "      <th>notes</th>\n",
       "      <th>transit</th>\n",
       "      <th>access</th>\n",
       "      <th>interaction</th>\n",
       "      <th>house_rules</th>\n",
       "      <th>thumbnail_url</th>\n",
       "      <th>medium_url</th>\n",
       "      <th>picture_url</th>\n",
       "      <th>xl_picture_url</th>\n",
       "      <th>host_id</th>\n",
       "    </tr>\n",
       "  </thead>\n",
       "  <tbody>\n",
       "    <tr>\n",
       "      <th>0</th>\n",
       "      <td>2818</td>\n",
       "      <td>https://www.airbnb.com/rooms/2818</td>\n",
       "      <td>20190808195507</td>\n",
       "      <td>2019-08-09</td>\n",
       "      <td>Quiet Garden View Room &amp; Super Fast WiFi</td>\n",
       "      <td>Quiet Garden View Room &amp; Super Fast WiFi</td>\n",
       "      <td>I'm renting a bedroom (room overlooking the ga...</td>\n",
       "      <td>Quiet Garden View Room &amp; Super Fast WiFi I'm r...</td>\n",
       "      <td>none</td>\n",
       "      <td>Indische Buurt (\"Indies Neighborhood\") is a ne...</td>\n",
       "      <td>From week 38 to week 47 maintenance work to th...</td>\n",
       "      <td>The neighbourhood is well served by 24 hours p...</td>\n",
       "      <td>NaN</td>\n",
       "      <td>NaN</td>\n",
       "      <td>Please: - Leave your shoes in the entrance  - ...</td>\n",
       "      <td>NaN</td>\n",
       "      <td>NaN</td>\n",
       "      <td>https://a0.muscache.com/im/pictures/10272854/8...</td>\n",
       "      <td>NaN</td>\n",
       "      <td>3159</td>\n",
       "    </tr>\n",
       "    <tr>\n",
       "      <th>1</th>\n",
       "      <td>20168</td>\n",
       "      <td>https://www.airbnb.com/rooms/20168</td>\n",
       "      <td>20190808195507</td>\n",
       "      <td>2019-08-09</td>\n",
       "      <td>Studio with private bathroom in the centre 1</td>\n",
       "      <td>Cozy studio on your own private floor, 100% in...</td>\n",
       "      <td>For those who like all facets of city life. In...</td>\n",
       "      <td>Cozy studio on your own private floor, 100% in...</td>\n",
       "      <td>none</td>\n",
       "      <td>Located just in between famous central canals....</td>\n",
       "      <td>Check-in time from 2pm till 10pm (But it doesn...</td>\n",
       "      <td>No need to use any transport! All is within a ...</td>\n",
       "      <td>NaN</td>\n",
       "      <td>No curfew, free entrance 27/7 with your own ke...</td>\n",
       "      <td>This studio/room takes entire floor and has it...</td>\n",
       "      <td>NaN</td>\n",
       "      <td>NaN</td>\n",
       "      <td>https://a0.muscache.com/im/pictures/69979664/3...</td>\n",
       "      <td>NaN</td>\n",
       "      <td>59484</td>\n",
       "    </tr>\n",
       "    <tr>\n",
       "      <th>2</th>\n",
       "      <td>25428</td>\n",
       "      <td>https://www.airbnb.com/rooms/25428</td>\n",
       "      <td>20190808195507</td>\n",
       "      <td>2019-08-09</td>\n",
       "      <td>Lovely apt in City Centre (w.lift) near Jordaan</td>\n",
       "      <td>NaN</td>\n",
       "      <td>This nicely furnished, newly renovated apt  is...</td>\n",
       "      <td>This nicely furnished, newly renovated apt  is...</td>\n",
       "      <td>none</td>\n",
       "      <td>NaN</td>\n",
       "      <td>NaN</td>\n",
       "      <td>The number 17 and #13 tram stop right outside ...</td>\n",
       "      <td>The apartment is about 75 meters or 800 square...</td>\n",
       "      <td>However, our good friends who live close by ta...</td>\n",
       "      <td>The building is a quiet building, so please do...</td>\n",
       "      <td>NaN</td>\n",
       "      <td>NaN</td>\n",
       "      <td>https://a0.muscache.com/im/pictures/138431/707...</td>\n",
       "      <td>NaN</td>\n",
       "      <td>56142</td>\n",
       "    </tr>\n",
       "  </tbody>\n",
       "</table>\n",
       "</div>"
      ],
      "text/plain": [
       "      id                         listing_url       scrape_id last_scraped  \\\n",
       "0   2818   https://www.airbnb.com/rooms/2818  20190808195507   2019-08-09   \n",
       "1  20168  https://www.airbnb.com/rooms/20168  20190808195507   2019-08-09   \n",
       "2  25428  https://www.airbnb.com/rooms/25428  20190808195507   2019-08-09   \n",
       "\n",
       "                                              name  \\\n",
       "0         Quiet Garden View Room & Super Fast WiFi   \n",
       "1     Studio with private bathroom in the centre 1   \n",
       "2  Lovely apt in City Centre (w.lift) near Jordaan   \n",
       "\n",
       "                                             summary  \\\n",
       "0           Quiet Garden View Room & Super Fast WiFi   \n",
       "1  Cozy studio on your own private floor, 100% in...   \n",
       "2                                                NaN   \n",
       "\n",
       "                                               space  \\\n",
       "0  I'm renting a bedroom (room overlooking the ga...   \n",
       "1  For those who like all facets of city life. In...   \n",
       "2  This nicely furnished, newly renovated apt  is...   \n",
       "\n",
       "                                         description experiences_offered  \\\n",
       "0  Quiet Garden View Room & Super Fast WiFi I'm r...                none   \n",
       "1  Cozy studio on your own private floor, 100% in...                none   \n",
       "2  This nicely furnished, newly renovated apt  is...                none   \n",
       "\n",
       "                               neighborhood_overview  \\\n",
       "0  Indische Buurt (\"Indies Neighborhood\") is a ne...   \n",
       "1  Located just in between famous central canals....   \n",
       "2                                                NaN   \n",
       "\n",
       "                                               notes  \\\n",
       "0  From week 38 to week 47 maintenance work to th...   \n",
       "1  Check-in time from 2pm till 10pm (But it doesn...   \n",
       "2                                                NaN   \n",
       "\n",
       "                                             transit  \\\n",
       "0  The neighbourhood is well served by 24 hours p...   \n",
       "1  No need to use any transport! All is within a ...   \n",
       "2  The number 17 and #13 tram stop right outside ...   \n",
       "\n",
       "                                              access  \\\n",
       "0                                                NaN   \n",
       "1                                                NaN   \n",
       "2  The apartment is about 75 meters or 800 square...   \n",
       "\n",
       "                                         interaction  \\\n",
       "0                                                NaN   \n",
       "1  No curfew, free entrance 27/7 with your own ke...   \n",
       "2  However, our good friends who live close by ta...   \n",
       "\n",
       "                                         house_rules  thumbnail_url  \\\n",
       "0  Please: - Leave your shoes in the entrance  - ...            NaN   \n",
       "1  This studio/room takes entire floor and has it...            NaN   \n",
       "2  The building is a quiet building, so please do...            NaN   \n",
       "\n",
       "   medium_url                                        picture_url  \\\n",
       "0         NaN  https://a0.muscache.com/im/pictures/10272854/8...   \n",
       "1         NaN  https://a0.muscache.com/im/pictures/69979664/3...   \n",
       "2         NaN  https://a0.muscache.com/im/pictures/138431/707...   \n",
       "\n",
       "   xl_picture_url  host_id  \n",
       "0             NaN     3159  \n",
       "1             NaN    59484  \n",
       "2             NaN    56142  "
      ]
     },
     "execution_count": 8,
     "metadata": {},
     "output_type": "execute_result"
    }
   ],
   "source": [
    "# First 20 columns\n",
    "dataset.iloc[:3 , :20]"
   ]
  },
  {
   "cell_type": "markdown",
   "metadata": {},
   "source": [
    "Listing Details:\n",
    "The dataset contain historical and current data about airbnb listings mostly in Amsterdam captured on 9th August, 2019. "
   ]
  },
  {
   "cell_type": "markdown",
   "metadata": {},
   "source": [
    "Out of the first 20 columns we shall remove the rest and keep only:\n",
    "\n",
    "    - id - listing identifier useful for joins and indexing\n",
    "    - last_scraped - useful for calculating reviews_per_month"
   ]
  },
  {
   "cell_type": "code",
   "execution_count": 9,
   "metadata": {},
   "outputs": [],
   "source": [
    "sublist_1 = dataset[['id', 'last_scraped']]"
   ]
  },
  {
   "cell_type": "code",
   "execution_count": 10,
   "metadata": {},
   "outputs": [
    {
     "data": {
      "text/html": [
       "<div>\n",
       "<style scoped>\n",
       "    .dataframe tbody tr th:only-of-type {\n",
       "        vertical-align: middle;\n",
       "    }\n",
       "\n",
       "    .dataframe tbody tr th {\n",
       "        vertical-align: top;\n",
       "    }\n",
       "\n",
       "    .dataframe thead th {\n",
       "        text-align: right;\n",
       "    }\n",
       "</style>\n",
       "<table border=\"1\" class=\"dataframe\">\n",
       "  <thead>\n",
       "    <tr style=\"text-align: right;\">\n",
       "      <th></th>\n",
       "      <th>host_url</th>\n",
       "      <th>host_name</th>\n",
       "      <th>host_since</th>\n",
       "      <th>host_location</th>\n",
       "      <th>host_about</th>\n",
       "      <th>host_response_time</th>\n",
       "      <th>host_response_rate</th>\n",
       "      <th>host_acceptance_rate</th>\n",
       "      <th>host_is_superhost</th>\n",
       "      <th>host_thumbnail_url</th>\n",
       "      <th>host_picture_url</th>\n",
       "      <th>host_neighbourhood</th>\n",
       "      <th>host_listings_count</th>\n",
       "      <th>host_total_listings_count</th>\n",
       "      <th>host_verifications</th>\n",
       "      <th>host_has_profile_pic</th>\n",
       "      <th>host_identity_verified</th>\n",
       "      <th>street</th>\n",
       "      <th>neighbourhood</th>\n",
       "      <th>neighbourhood_cleansed</th>\n",
       "    </tr>\n",
       "  </thead>\n",
       "  <tbody>\n",
       "    <tr>\n",
       "      <th>0</th>\n",
       "      <td>https://www.airbnb.com/users/show/3159</td>\n",
       "      <td>Daniel</td>\n",
       "      <td>2008-09-24</td>\n",
       "      <td>Amsterdam, Noord-Holland, The Netherlands</td>\n",
       "      <td>Upon arriving in Amsterdam, one can imagine as...</td>\n",
       "      <td>within an hour</td>\n",
       "      <td>100%</td>\n",
       "      <td>NaN</td>\n",
       "      <td>t</td>\n",
       "      <td>https://a0.muscache.com/im/users/3159/profile_...</td>\n",
       "      <td>https://a0.muscache.com/im/users/3159/profile_...</td>\n",
       "      <td>Indische Buurt</td>\n",
       "      <td>1.0</td>\n",
       "      <td>1.0</td>\n",
       "      <td>['email', 'phone', 'reviews', 'jumio', 'offlin...</td>\n",
       "      <td>t</td>\n",
       "      <td>f</td>\n",
       "      <td>Amsterdam, North Holland, Netherlands</td>\n",
       "      <td>Indische Buurt</td>\n",
       "      <td>Oostelijk Havengebied - Indische Buurt</td>\n",
       "    </tr>\n",
       "    <tr>\n",
       "      <th>1</th>\n",
       "      <td>https://www.airbnb.com/users/show/59484</td>\n",
       "      <td>Alexander</td>\n",
       "      <td>2009-12-02</td>\n",
       "      <td>Amsterdam, Noord-Holland, The Netherlands</td>\n",
       "      <td>Secondary phone nr. + (Phone number hidden by ...</td>\n",
       "      <td>within an hour</td>\n",
       "      <td>100%</td>\n",
       "      <td>NaN</td>\n",
       "      <td>f</td>\n",
       "      <td>https://a0.muscache.com/im/pictures/user/579c8...</td>\n",
       "      <td>https://a0.muscache.com/im/pictures/user/579c8...</td>\n",
       "      <td>Grachtengordel</td>\n",
       "      <td>2.0</td>\n",
       "      <td>2.0</td>\n",
       "      <td>['email', 'phone', 'reviews', 'jumio', 'offlin...</td>\n",
       "      <td>t</td>\n",
       "      <td>f</td>\n",
       "      <td>Amsterdam, North Holland, Netherlands</td>\n",
       "      <td>Grachtengordel</td>\n",
       "      <td>Centrum-Oost</td>\n",
       "    </tr>\n",
       "    <tr>\n",
       "      <th>2</th>\n",
       "      <td>https://www.airbnb.com/users/show/56142</td>\n",
       "      <td>Joan</td>\n",
       "      <td>2009-11-20</td>\n",
       "      <td>New York, New York, United States</td>\n",
       "      <td>We are a retired couple who live in NYC, and h...</td>\n",
       "      <td>within an hour</td>\n",
       "      <td>100%</td>\n",
       "      <td>NaN</td>\n",
       "      <td>f</td>\n",
       "      <td>https://a0.muscache.com/im/users/56142/profile...</td>\n",
       "      <td>https://a0.muscache.com/im/users/56142/profile...</td>\n",
       "      <td>Grachtengordel</td>\n",
       "      <td>2.0</td>\n",
       "      <td>2.0</td>\n",
       "      <td>['email', 'phone', 'reviews']</td>\n",
       "      <td>t</td>\n",
       "      <td>f</td>\n",
       "      <td>Amsterdam, North Holland, Netherlands</td>\n",
       "      <td>Grachtengordel</td>\n",
       "      <td>Centrum-West</td>\n",
       "    </tr>\n",
       "  </tbody>\n",
       "</table>\n",
       "</div>"
      ],
      "text/plain": [
       "                                  host_url  host_name  host_since  \\\n",
       "0   https://www.airbnb.com/users/show/3159     Daniel  2008-09-24   \n",
       "1  https://www.airbnb.com/users/show/59484  Alexander  2009-12-02   \n",
       "2  https://www.airbnb.com/users/show/56142       Joan  2009-11-20   \n",
       "\n",
       "                               host_location  \\\n",
       "0  Amsterdam, Noord-Holland, The Netherlands   \n",
       "1  Amsterdam, Noord-Holland, The Netherlands   \n",
       "2          New York, New York, United States   \n",
       "\n",
       "                                          host_about host_response_time  \\\n",
       "0  Upon arriving in Amsterdam, one can imagine as...     within an hour   \n",
       "1  Secondary phone nr. + (Phone number hidden by ...     within an hour   \n",
       "2  We are a retired couple who live in NYC, and h...     within an hour   \n",
       "\n",
       "  host_response_rate  host_acceptance_rate host_is_superhost  \\\n",
       "0               100%                   NaN                 t   \n",
       "1               100%                   NaN                 f   \n",
       "2               100%                   NaN                 f   \n",
       "\n",
       "                                  host_thumbnail_url  \\\n",
       "0  https://a0.muscache.com/im/users/3159/profile_...   \n",
       "1  https://a0.muscache.com/im/pictures/user/579c8...   \n",
       "2  https://a0.muscache.com/im/users/56142/profile...   \n",
       "\n",
       "                                    host_picture_url host_neighbourhood  \\\n",
       "0  https://a0.muscache.com/im/users/3159/profile_...     Indische Buurt   \n",
       "1  https://a0.muscache.com/im/pictures/user/579c8...     Grachtengordel   \n",
       "2  https://a0.muscache.com/im/users/56142/profile...     Grachtengordel   \n",
       "\n",
       "   host_listings_count  host_total_listings_count  \\\n",
       "0                  1.0                        1.0   \n",
       "1                  2.0                        2.0   \n",
       "2                  2.0                        2.0   \n",
       "\n",
       "                                  host_verifications host_has_profile_pic  \\\n",
       "0  ['email', 'phone', 'reviews', 'jumio', 'offlin...                    t   \n",
       "1  ['email', 'phone', 'reviews', 'jumio', 'offlin...                    t   \n",
       "2                      ['email', 'phone', 'reviews']                    t   \n",
       "\n",
       "  host_identity_verified                                 street  \\\n",
       "0                      f  Amsterdam, North Holland, Netherlands   \n",
       "1                      f  Amsterdam, North Holland, Netherlands   \n",
       "2                      f  Amsterdam, North Holland, Netherlands   \n",
       "\n",
       "    neighbourhood                  neighbourhood_cleansed  \n",
       "0  Indische Buurt  Oostelijk Havengebied - Indische Buurt  \n",
       "1  Grachtengordel                            Centrum-Oost  \n",
       "2  Grachtengordel                            Centrum-West  "
      ]
     },
     "execution_count": 10,
     "metadata": {},
     "output_type": "execute_result"
    }
   ],
   "source": [
    "# Second 20 columns\n",
    "dataset.iloc[:3 , 20:40]"
   ]
  },
  {
   "cell_type": "markdown",
   "metadata": {},
   "source": [
    "From the second 20 columns we shall only keep:\n",
    "\n",
    "    - host_name - for identification\n",
    "    - host_since - useful for calculating duration\n",
    "    - host_location - for location and geospatial analysis\n",
    "    - host_about - useful information\n",
    "    - host_is_superhost - descriptor\n",
    "    - host_has_profile_pic - credibility element\n",
    "    - host_identity_verified - another credibility element\n",
    "    - neighbourhood - for geolocation\n",
    "    - neighbourhood_cleansed - same as above\n"
   ]
  },
  {
   "cell_type": "code",
   "execution_count": 11,
   "metadata": {},
   "outputs": [],
   "source": [
    "sublist_2 = dataset[['host_name', 'host_since', 'host_location', 'host_about', 'host_is_superhost',\n",
    "                     'host_has_profile_pic', 'host_identity_verified', 'neighbourhood', 'neighbourhood_cleansed']]"
   ]
  },
  {
   "cell_type": "code",
   "execution_count": 12,
   "metadata": {},
   "outputs": [
    {
     "data": {
      "text/html": [
       "<div>\n",
       "<style scoped>\n",
       "    .dataframe tbody tr th:only-of-type {\n",
       "        vertical-align: middle;\n",
       "    }\n",
       "\n",
       "    .dataframe tbody tr th {\n",
       "        vertical-align: top;\n",
       "    }\n",
       "\n",
       "    .dataframe thead th {\n",
       "        text-align: right;\n",
       "    }\n",
       "</style>\n",
       "<table border=\"1\" class=\"dataframe\">\n",
       "  <thead>\n",
       "    <tr style=\"text-align: right;\">\n",
       "      <th></th>\n",
       "      <th>neighbourhood_group_cleansed</th>\n",
       "      <th>city</th>\n",
       "      <th>state</th>\n",
       "      <th>zipcode</th>\n",
       "      <th>market</th>\n",
       "      <th>smart_location</th>\n",
       "      <th>country_code</th>\n",
       "      <th>country</th>\n",
       "      <th>latitude</th>\n",
       "      <th>longitude</th>\n",
       "      <th>is_location_exact</th>\n",
       "      <th>property_type</th>\n",
       "      <th>room_type</th>\n",
       "      <th>accommodates</th>\n",
       "      <th>bathrooms</th>\n",
       "      <th>bedrooms</th>\n",
       "      <th>beds</th>\n",
       "      <th>bed_type</th>\n",
       "      <th>amenities</th>\n",
       "      <th>square_feet</th>\n",
       "    </tr>\n",
       "  </thead>\n",
       "  <tbody>\n",
       "    <tr>\n",
       "      <th>0</th>\n",
       "      <td>NaN</td>\n",
       "      <td>Amsterdam</td>\n",
       "      <td>North Holland</td>\n",
       "      <td>NaN</td>\n",
       "      <td>Amsterdam</td>\n",
       "      <td>Amsterdam, Netherlands</td>\n",
       "      <td>NL</td>\n",
       "      <td>Netherlands</td>\n",
       "      <td>52.36575</td>\n",
       "      <td>4.94142</td>\n",
       "      <td>f</td>\n",
       "      <td>Apartment</td>\n",
       "      <td>Private room</td>\n",
       "      <td>2</td>\n",
       "      <td>1.5</td>\n",
       "      <td>1.0</td>\n",
       "      <td>2.0</td>\n",
       "      <td>Real Bed</td>\n",
       "      <td>{Internet,Wifi,\"Paid parking off premises\",\"Bu...</td>\n",
       "      <td>NaN</td>\n",
       "    </tr>\n",
       "    <tr>\n",
       "      <th>1</th>\n",
       "      <td>NaN</td>\n",
       "      <td>Amsterdam</td>\n",
       "      <td>North Holland</td>\n",
       "      <td>1017</td>\n",
       "      <td>Amsterdam</td>\n",
       "      <td>Amsterdam, Netherlands</td>\n",
       "      <td>NL</td>\n",
       "      <td>Netherlands</td>\n",
       "      <td>52.36509</td>\n",
       "      <td>4.89354</td>\n",
       "      <td>t</td>\n",
       "      <td>Townhouse</td>\n",
       "      <td>Private room</td>\n",
       "      <td>2</td>\n",
       "      <td>1.0</td>\n",
       "      <td>1.0</td>\n",
       "      <td>1.0</td>\n",
       "      <td>Real Bed</td>\n",
       "      <td>{TV,Internet,Wifi,\"Paid parking off premises\",...</td>\n",
       "      <td>NaN</td>\n",
       "    </tr>\n",
       "    <tr>\n",
       "      <th>2</th>\n",
       "      <td>NaN</td>\n",
       "      <td>Amsterdam</td>\n",
       "      <td>North Holland</td>\n",
       "      <td>1016</td>\n",
       "      <td>Amsterdam</td>\n",
       "      <td>Amsterdam, Netherlands</td>\n",
       "      <td>NL</td>\n",
       "      <td>Netherlands</td>\n",
       "      <td>52.37297</td>\n",
       "      <td>4.88339</td>\n",
       "      <td>f</td>\n",
       "      <td>Apartment</td>\n",
       "      <td>Entire home/apt</td>\n",
       "      <td>3</td>\n",
       "      <td>1.0</td>\n",
       "      <td>1.0</td>\n",
       "      <td>1.0</td>\n",
       "      <td>Real Bed</td>\n",
       "      <td>{TV,\"Cable TV\",Internet,Wifi,Kitchen,Elevator,...</td>\n",
       "      <td>NaN</td>\n",
       "    </tr>\n",
       "  </tbody>\n",
       "</table>\n",
       "</div>"
      ],
      "text/plain": [
       "   neighbourhood_group_cleansed       city          state zipcode     market  \\\n",
       "0                           NaN  Amsterdam  North Holland     NaN  Amsterdam   \n",
       "1                           NaN  Amsterdam  North Holland    1017  Amsterdam   \n",
       "2                           NaN  Amsterdam  North Holland    1016  Amsterdam   \n",
       "\n",
       "           smart_location country_code      country  latitude  longitude  \\\n",
       "0  Amsterdam, Netherlands           NL  Netherlands  52.36575    4.94142   \n",
       "1  Amsterdam, Netherlands           NL  Netherlands  52.36509    4.89354   \n",
       "2  Amsterdam, Netherlands           NL  Netherlands  52.37297    4.88339   \n",
       "\n",
       "  is_location_exact property_type        room_type  accommodates  bathrooms  \\\n",
       "0                 f     Apartment     Private room             2        1.5   \n",
       "1                 t     Townhouse     Private room             2        1.0   \n",
       "2                 f     Apartment  Entire home/apt             3        1.0   \n",
       "\n",
       "   bedrooms  beds  bed_type  \\\n",
       "0       1.0   2.0  Real Bed   \n",
       "1       1.0   1.0  Real Bed   \n",
       "2       1.0   1.0  Real Bed   \n",
       "\n",
       "                                           amenities  square_feet  \n",
       "0  {Internet,Wifi,\"Paid parking off premises\",\"Bu...          NaN  \n",
       "1  {TV,Internet,Wifi,\"Paid parking off premises\",...          NaN  \n",
       "2  {TV,\"Cable TV\",Internet,Wifi,Kitchen,Elevator,...          NaN  "
      ]
     },
     "execution_count": 12,
     "metadata": {},
     "output_type": "execute_result"
    }
   ],
   "source": [
    "# Third 20 columns\n",
    "dataset.iloc[:3, 40:60]"
   ]
  },
  {
   "cell_type": "markdown",
   "metadata": {},
   "source": [
    "From the next 20 columns we will keep the following:\n",
    "\n",
    "    - latitude - useful for map visualizations\n",
    "    - longitude - same as above we will use it later to visualise the data on the map\n",
    "    - property_type - descriptor\n",
    "    - room_type - same as above\n",
    "    - accommodates - same as above\n",
    "    - bathrooms - same as above\n",
    "    - bedrooms - same as above\n",
    "    - beds - same as above\n",
    "    - bed_type - same as above\n",
    "    - amenities - due to number of unique features (over 100) we will only concentrate on the total number of amenities"
   ]
  },
  {
   "cell_type": "code",
   "execution_count": 13,
   "metadata": {},
   "outputs": [],
   "source": [
    "sublist_3 = dataset[['latitude', 'longitude', 'property_type', 'room_type', 'accommodates', \n",
    "                     'bathrooms', 'bedrooms', 'beds', 'bed_type', 'amenities']]"
   ]
  },
  {
   "cell_type": "code",
   "execution_count": 14,
   "metadata": {},
   "outputs": [
    {
     "data": {
      "text/html": [
       "<div>\n",
       "<style scoped>\n",
       "    .dataframe tbody tr th:only-of-type {\n",
       "        vertical-align: middle;\n",
       "    }\n",
       "\n",
       "    .dataframe tbody tr th {\n",
       "        vertical-align: top;\n",
       "    }\n",
       "\n",
       "    .dataframe thead th {\n",
       "        text-align: right;\n",
       "    }\n",
       "</style>\n",
       "<table border=\"1\" class=\"dataframe\">\n",
       "  <thead>\n",
       "    <tr style=\"text-align: right;\">\n",
       "      <th></th>\n",
       "      <th>price</th>\n",
       "      <th>weekly_price</th>\n",
       "      <th>monthly_price</th>\n",
       "      <th>security_deposit</th>\n",
       "      <th>cleaning_fee</th>\n",
       "      <th>guests_included</th>\n",
       "      <th>extra_people</th>\n",
       "      <th>minimum_nights</th>\n",
       "      <th>maximum_nights</th>\n",
       "      <th>minimum_minimum_nights</th>\n",
       "      <th>maximum_minimum_nights</th>\n",
       "      <th>minimum_maximum_nights</th>\n",
       "      <th>maximum_maximum_nights</th>\n",
       "      <th>minimum_nights_avg_ntm</th>\n",
       "      <th>maximum_nights_avg_ntm</th>\n",
       "      <th>calendar_updated</th>\n",
       "      <th>has_availability</th>\n",
       "      <th>availability_30</th>\n",
       "      <th>availability_60</th>\n",
       "      <th>availability_90</th>\n",
       "    </tr>\n",
       "  </thead>\n",
       "  <tbody>\n",
       "    <tr>\n",
       "      <th>0</th>\n",
       "      <td>$59.00</td>\n",
       "      <td>NaN</td>\n",
       "      <td>$1,500.00</td>\n",
       "      <td>$200.00</td>\n",
       "      <td>$60.00</td>\n",
       "      <td>1</td>\n",
       "      <td>$20.00</td>\n",
       "      <td>3</td>\n",
       "      <td>15</td>\n",
       "      <td>3</td>\n",
       "      <td>3</td>\n",
       "      <td>15</td>\n",
       "      <td>15</td>\n",
       "      <td>3.0</td>\n",
       "      <td>15.0</td>\n",
       "      <td>today</td>\n",
       "      <td>t</td>\n",
       "      <td>8</td>\n",
       "      <td>18</td>\n",
       "      <td>43</td>\n",
       "    </tr>\n",
       "    <tr>\n",
       "      <th>1</th>\n",
       "      <td>$80.00</td>\n",
       "      <td>NaN</td>\n",
       "      <td>NaN</td>\n",
       "      <td>NaN</td>\n",
       "      <td>NaN</td>\n",
       "      <td>2</td>\n",
       "      <td>$0.00</td>\n",
       "      <td>1</td>\n",
       "      <td>1000</td>\n",
       "      <td>1</td>\n",
       "      <td>4</td>\n",
       "      <td>1000</td>\n",
       "      <td>1000</td>\n",
       "      <td>3.4</td>\n",
       "      <td>1000.0</td>\n",
       "      <td>today</td>\n",
       "      <td>t</td>\n",
       "      <td>0</td>\n",
       "      <td>8</td>\n",
       "      <td>34</td>\n",
       "    </tr>\n",
       "    <tr>\n",
       "      <th>2</th>\n",
       "      <td>$125.00</td>\n",
       "      <td>$650.00</td>\n",
       "      <td>$2,000.00</td>\n",
       "      <td>$300.00</td>\n",
       "      <td>$40.00</td>\n",
       "      <td>2</td>\n",
       "      <td>$10.00</td>\n",
       "      <td>14</td>\n",
       "      <td>60</td>\n",
       "      <td>14</td>\n",
       "      <td>14</td>\n",
       "      <td>60</td>\n",
       "      <td>60</td>\n",
       "      <td>14.0</td>\n",
       "      <td>60.0</td>\n",
       "      <td>today</td>\n",
       "      <td>t</td>\n",
       "      <td>4</td>\n",
       "      <td>6</td>\n",
       "      <td>16</td>\n",
       "    </tr>\n",
       "  </tbody>\n",
       "</table>\n",
       "</div>"
      ],
      "text/plain": [
       "     price weekly_price monthly_price security_deposit cleaning_fee  \\\n",
       "0   $59.00          NaN     $1,500.00          $200.00       $60.00   \n",
       "1   $80.00          NaN           NaN              NaN          NaN   \n",
       "2  $125.00      $650.00     $2,000.00          $300.00       $40.00   \n",
       "\n",
       "   guests_included extra_people  minimum_nights  maximum_nights  \\\n",
       "0                1       $20.00               3              15   \n",
       "1                2        $0.00               1            1000   \n",
       "2                2       $10.00              14              60   \n",
       "\n",
       "   minimum_minimum_nights  maximum_minimum_nights  minimum_maximum_nights  \\\n",
       "0                       3                       3                      15   \n",
       "1                       1                       4                    1000   \n",
       "2                      14                      14                      60   \n",
       "\n",
       "   maximum_maximum_nights  minimum_nights_avg_ntm  maximum_nights_avg_ntm  \\\n",
       "0                      15                     3.0                    15.0   \n",
       "1                    1000                     3.4                  1000.0   \n",
       "2                      60                    14.0                    60.0   \n",
       "\n",
       "  calendar_updated has_availability  availability_30  availability_60  \\\n",
       "0            today                t                8               18   \n",
       "1            today                t                0                8   \n",
       "2            today                t                4                6   \n",
       "\n",
       "   availability_90  \n",
       "0               43  \n",
       "1               34  \n",
       "2               16  "
      ]
     },
     "execution_count": 14,
     "metadata": {},
     "output_type": "execute_result"
    }
   ],
   "source": [
    "# Fourth 20 columns\n",
    "dataset.iloc[:3, 60:80]"
   ]
  },
  {
   "cell_type": "markdown",
   "metadata": {},
   "source": [
    "From the next 20 columns we shall keep:\n",
    "\n",
    "    - price - price per night for numer of guest\n",
    "    - security_deposit - associated with cost\n",
    "    - cleaning_fee - additional cost\n",
    "    - guests_included - number of persons staying\n",
    "    - extra_people - cost of additional person per night\n",
    "    - minimum_nights - also cost related"
   ]
  },
  {
   "cell_type": "code",
   "execution_count": 15,
   "metadata": {},
   "outputs": [],
   "source": [
    "sublist_4 = dataset[['price', 'security_deposit', 'cleaning_fee', 'guests_included', \n",
    "                     'extra_people', 'minimum_nights']]"
   ]
  },
  {
   "cell_type": "code",
   "execution_count": 16,
   "metadata": {},
   "outputs": [
    {
     "data": {
      "text/html": [
       "<div>\n",
       "<style scoped>\n",
       "    .dataframe tbody tr th:only-of-type {\n",
       "        vertical-align: middle;\n",
       "    }\n",
       "\n",
       "    .dataframe tbody tr th {\n",
       "        vertical-align: top;\n",
       "    }\n",
       "\n",
       "    .dataframe thead th {\n",
       "        text-align: right;\n",
       "    }\n",
       "</style>\n",
       "<table border=\"1\" class=\"dataframe\">\n",
       "  <thead>\n",
       "    <tr style=\"text-align: right;\">\n",
       "      <th></th>\n",
       "      <th>availability_365</th>\n",
       "      <th>calendar_last_scraped</th>\n",
       "      <th>number_of_reviews</th>\n",
       "      <th>number_of_reviews_ltm</th>\n",
       "      <th>first_review</th>\n",
       "      <th>last_review</th>\n",
       "      <th>review_scores_rating</th>\n",
       "      <th>review_scores_accuracy</th>\n",
       "      <th>review_scores_cleanliness</th>\n",
       "      <th>review_scores_checkin</th>\n",
       "      <th>review_scores_communication</th>\n",
       "      <th>review_scores_location</th>\n",
       "      <th>review_scores_value</th>\n",
       "      <th>requires_license</th>\n",
       "      <th>license</th>\n",
       "      <th>jurisdiction_names</th>\n",
       "      <th>instant_bookable</th>\n",
       "      <th>is_business_travel_ready</th>\n",
       "      <th>cancellation_policy</th>\n",
       "      <th>require_guest_profile_picture</th>\n",
       "    </tr>\n",
       "  </thead>\n",
       "  <tbody>\n",
       "    <tr>\n",
       "      <th>0</th>\n",
       "      <td>89</td>\n",
       "      <td>2019-08-09</td>\n",
       "      <td>267</td>\n",
       "      <td>30</td>\n",
       "      <td>2009-03-30</td>\n",
       "      <td>2019-08-05</td>\n",
       "      <td>98.0</td>\n",
       "      <td>10.0</td>\n",
       "      <td>10.0</td>\n",
       "      <td>10.0</td>\n",
       "      <td>10.0</td>\n",
       "      <td>10.0</td>\n",
       "      <td>10.0</td>\n",
       "      <td>f</td>\n",
       "      <td>NaN</td>\n",
       "      <td>{Amsterdam,\" NL Zip Codes 2\",\" Amsterdam\",\" NL\"}</td>\n",
       "      <td>t</td>\n",
       "      <td>f</td>\n",
       "      <td>strict_14_with_grace_period</td>\n",
       "      <td>f</td>\n",
       "    </tr>\n",
       "    <tr>\n",
       "      <th>1</th>\n",
       "      <td>124</td>\n",
       "      <td>2019-08-09</td>\n",
       "      <td>283</td>\n",
       "      <td>67</td>\n",
       "      <td>2010-03-02</td>\n",
       "      <td>2019-07-26</td>\n",
       "      <td>88.0</td>\n",
       "      <td>9.0</td>\n",
       "      <td>10.0</td>\n",
       "      <td>10.0</td>\n",
       "      <td>10.0</td>\n",
       "      <td>10.0</td>\n",
       "      <td>9.0</td>\n",
       "      <td>f</td>\n",
       "      <td>NaN</td>\n",
       "      <td>{Amsterdam,\" NL Zip Codes 2\",\" Amsterdam\",\" NL\"}</td>\n",
       "      <td>f</td>\n",
       "      <td>f</td>\n",
       "      <td>strict_14_with_grace_period</td>\n",
       "      <td>f</td>\n",
       "    </tr>\n",
       "    <tr>\n",
       "      <th>2</th>\n",
       "      <td>75</td>\n",
       "      <td>2019-08-09</td>\n",
       "      <td>3</td>\n",
       "      <td>2</td>\n",
       "      <td>2018-01-21</td>\n",
       "      <td>2019-05-11</td>\n",
       "      <td>100.0</td>\n",
       "      <td>10.0</td>\n",
       "      <td>10.0</td>\n",
       "      <td>10.0</td>\n",
       "      <td>10.0</td>\n",
       "      <td>10.0</td>\n",
       "      <td>10.0</td>\n",
       "      <td>f</td>\n",
       "      <td>NaN</td>\n",
       "      <td>{Amsterdam,\" NL Zip Codes 2\",\" Amsterdam\",\" NL\"}</td>\n",
       "      <td>f</td>\n",
       "      <td>f</td>\n",
       "      <td>strict_14_with_grace_period</td>\n",
       "      <td>f</td>\n",
       "    </tr>\n",
       "  </tbody>\n",
       "</table>\n",
       "</div>"
      ],
      "text/plain": [
       "   availability_365 calendar_last_scraped  number_of_reviews  \\\n",
       "0                89            2019-08-09                267   \n",
       "1               124            2019-08-09                283   \n",
       "2                75            2019-08-09                  3   \n",
       "\n",
       "   number_of_reviews_ltm first_review last_review  review_scores_rating  \\\n",
       "0                     30   2009-03-30  2019-08-05                  98.0   \n",
       "1                     67   2010-03-02  2019-07-26                  88.0   \n",
       "2                      2   2018-01-21  2019-05-11                 100.0   \n",
       "\n",
       "   review_scores_accuracy  review_scores_cleanliness  review_scores_checkin  \\\n",
       "0                    10.0                       10.0                   10.0   \n",
       "1                     9.0                       10.0                   10.0   \n",
       "2                    10.0                       10.0                   10.0   \n",
       "\n",
       "   review_scores_communication  review_scores_location  review_scores_value  \\\n",
       "0                         10.0                    10.0                 10.0   \n",
       "1                         10.0                    10.0                  9.0   \n",
       "2                         10.0                    10.0                 10.0   \n",
       "\n",
       "  requires_license license                                jurisdiction_names  \\\n",
       "0                f     NaN  {Amsterdam,\" NL Zip Codes 2\",\" Amsterdam\",\" NL\"}   \n",
       "1                f     NaN  {Amsterdam,\" NL Zip Codes 2\",\" Amsterdam\",\" NL\"}   \n",
       "2                f     NaN  {Amsterdam,\" NL Zip Codes 2\",\" Amsterdam\",\" NL\"}   \n",
       "\n",
       "  instant_bookable is_business_travel_ready          cancellation_policy  \\\n",
       "0                t                        f  strict_14_with_grace_period   \n",
       "1                f                        f  strict_14_with_grace_period   \n",
       "2                f                        f  strict_14_with_grace_period   \n",
       "\n",
       "  require_guest_profile_picture  \n",
       "0                             f  \n",
       "1                             f  \n",
       "2                             f  "
      ]
     },
     "execution_count": 16,
     "metadata": {},
     "output_type": "execute_result"
    }
   ],
   "source": [
    "# Fifth 20 columns\n",
    "dataset.iloc[:3, 80:100]"
   ]
  },
  {
   "cell_type": "markdown",
   "metadata": {},
   "source": [
    "From the next set of columns we shall keep:\n",
    "    - first_review - uselful for calculating reviews per month\n",
    "    - last_review - useful to determine inactive listings\n",
    "    - number_of_reviews - total number of reviews in entire listing history\n",
    "    - review_scores_accuracy: numbers between 2 and 10\n",
    "    - review_scores_cleanliness: numbers between 2 and 10\n",
    "    - review_scores_checkin: numbers between 2 and 10\n",
    "    - review_scores_communication: numbers between 2 and 10\n",
    "    - review_scores_location: numbers between 2 and 10\n",
    "    - review_scores_value: numbers between 2 and 10\n",
    "    - instant_bookable: t or false\n",
    "    - cancellation_policy: ordered\n",
    "    - require_guest_profile_picture:t or false"
   ]
  },
  {
   "cell_type": "code",
   "execution_count": 17,
   "metadata": {},
   "outputs": [],
   "source": [
    "sublist_5 = dataset[['first_review', 'last_review', 'number_of_reviews','review_scores_accuracy', 'review_scores_cleanliness', 'review_scores_checkin',\n",
    "                     'review_scores_communication', 'review_scores_location', 'review_scores_value', 'instant_bookable', \n",
    "                     'cancellation_policy', 'require_guest_profile_picture']]"
   ]
  },
  {
   "cell_type": "code",
   "execution_count": 18,
   "metadata": {},
   "outputs": [
    {
     "data": {
      "text/html": [
       "<div>\n",
       "<style scoped>\n",
       "    .dataframe tbody tr th:only-of-type {\n",
       "        vertical-align: middle;\n",
       "    }\n",
       "\n",
       "    .dataframe tbody tr th {\n",
       "        vertical-align: top;\n",
       "    }\n",
       "\n",
       "    .dataframe thead th {\n",
       "        text-align: right;\n",
       "    }\n",
       "</style>\n",
       "<table border=\"1\" class=\"dataframe\">\n",
       "  <thead>\n",
       "    <tr style=\"text-align: right;\">\n",
       "      <th></th>\n",
       "      <th>require_guest_phone_verification</th>\n",
       "      <th>calculated_host_listings_count</th>\n",
       "      <th>calculated_host_listings_count_entire_homes</th>\n",
       "      <th>calculated_host_listings_count_private_rooms</th>\n",
       "      <th>calculated_host_listings_count_shared_rooms</th>\n",
       "      <th>reviews_per_month</th>\n",
       "    </tr>\n",
       "  </thead>\n",
       "  <tbody>\n",
       "    <tr>\n",
       "      <th>0</th>\n",
       "      <td>f</td>\n",
       "      <td>1</td>\n",
       "      <td>0</td>\n",
       "      <td>1</td>\n",
       "      <td>0</td>\n",
       "      <td>2.12</td>\n",
       "    </tr>\n",
       "    <tr>\n",
       "      <th>1</th>\n",
       "      <td>f</td>\n",
       "      <td>2</td>\n",
       "      <td>0</td>\n",
       "      <td>2</td>\n",
       "      <td>0</td>\n",
       "      <td>2.46</td>\n",
       "    </tr>\n",
       "    <tr>\n",
       "      <th>2</th>\n",
       "      <td>f</td>\n",
       "      <td>2</td>\n",
       "      <td>2</td>\n",
       "      <td>0</td>\n",
       "      <td>0</td>\n",
       "      <td>0.16</td>\n",
       "    </tr>\n",
       "  </tbody>\n",
       "</table>\n",
       "</div>"
      ],
      "text/plain": [
       "  require_guest_phone_verification  calculated_host_listings_count  \\\n",
       "0                                f                               1   \n",
       "1                                f                               2   \n",
       "2                                f                               2   \n",
       "\n",
       "   calculated_host_listings_count_entire_homes  \\\n",
       "0                                            0   \n",
       "1                                            0   \n",
       "2                                            2   \n",
       "\n",
       "   calculated_host_listings_count_private_rooms  \\\n",
       "0                                             1   \n",
       "1                                             2   \n",
       "2                                             0   \n",
       "\n",
       "   calculated_host_listings_count_shared_rooms  reviews_per_month  \n",
       "0                                            0               2.12  \n",
       "1                                            0               2.46  \n",
       "2                                            0               0.16  "
      ]
     },
     "execution_count": 18,
     "metadata": {},
     "output_type": "execute_result"
    }
   ],
   "source": [
    "# remaining columns\n",
    "dataset.iloc[:3,100:]"
   ]
  },
  {
   "cell_type": "markdown",
   "metadata": {},
   "source": [
    "Here, we shall only keep:\n",
    "    - require_guest_phone_verification: t or false\n",
    "    - caluculated_host_listings_count: another measure of host's credibility"
   ]
  },
  {
   "cell_type": "code",
   "execution_count": 19,
   "metadata": {},
   "outputs": [],
   "source": [
    "sublist_6 = dataset[['require_guest_phone_verification', 'calculated_host_listings_count']]"
   ]
  },
  {
   "cell_type": "code",
   "execution_count": 20,
   "metadata": {},
   "outputs": [
    {
     "data": {
      "text/html": [
       "<div>\n",
       "<style scoped>\n",
       "    .dataframe tbody tr th:only-of-type {\n",
       "        vertical-align: middle;\n",
       "    }\n",
       "\n",
       "    .dataframe tbody tr th {\n",
       "        vertical-align: top;\n",
       "    }\n",
       "\n",
       "    .dataframe thead th {\n",
       "        text-align: right;\n",
       "    }\n",
       "</style>\n",
       "<table border=\"1\" class=\"dataframe\">\n",
       "  <thead>\n",
       "    <tr style=\"text-align: right;\">\n",
       "      <th></th>\n",
       "      <th>id</th>\n",
       "      <th>last_scraped</th>\n",
       "      <th>host_name</th>\n",
       "      <th>host_since</th>\n",
       "      <th>host_location</th>\n",
       "      <th>host_about</th>\n",
       "      <th>host_is_superhost</th>\n",
       "      <th>host_has_profile_pic</th>\n",
       "      <th>host_identity_verified</th>\n",
       "      <th>neighbourhood</th>\n",
       "      <th>...</th>\n",
       "      <th>review_scores_cleanliness</th>\n",
       "      <th>review_scores_checkin</th>\n",
       "      <th>review_scores_communication</th>\n",
       "      <th>review_scores_location</th>\n",
       "      <th>review_scores_value</th>\n",
       "      <th>instant_bookable</th>\n",
       "      <th>cancellation_policy</th>\n",
       "      <th>require_guest_profile_picture</th>\n",
       "      <th>require_guest_phone_verification</th>\n",
       "      <th>calculated_host_listings_count</th>\n",
       "    </tr>\n",
       "  </thead>\n",
       "  <tbody>\n",
       "    <tr>\n",
       "      <th>0</th>\n",
       "      <td>2818</td>\n",
       "      <td>2019-08-09</td>\n",
       "      <td>Daniel</td>\n",
       "      <td>2008-09-24</td>\n",
       "      <td>Amsterdam, Noord-Holland, The Netherlands</td>\n",
       "      <td>Upon arriving in Amsterdam, one can imagine as...</td>\n",
       "      <td>t</td>\n",
       "      <td>t</td>\n",
       "      <td>f</td>\n",
       "      <td>Indische Buurt</td>\n",
       "      <td>...</td>\n",
       "      <td>10.0</td>\n",
       "      <td>10.0</td>\n",
       "      <td>10.0</td>\n",
       "      <td>10.0</td>\n",
       "      <td>10.0</td>\n",
       "      <td>t</td>\n",
       "      <td>strict_14_with_grace_period</td>\n",
       "      <td>f</td>\n",
       "      <td>f</td>\n",
       "      <td>1</td>\n",
       "    </tr>\n",
       "    <tr>\n",
       "      <th>1</th>\n",
       "      <td>20168</td>\n",
       "      <td>2019-08-09</td>\n",
       "      <td>Alexander</td>\n",
       "      <td>2009-12-02</td>\n",
       "      <td>Amsterdam, Noord-Holland, The Netherlands</td>\n",
       "      <td>Secondary phone nr. + (Phone number hidden by ...</td>\n",
       "      <td>f</td>\n",
       "      <td>t</td>\n",
       "      <td>f</td>\n",
       "      <td>Grachtengordel</td>\n",
       "      <td>...</td>\n",
       "      <td>10.0</td>\n",
       "      <td>10.0</td>\n",
       "      <td>10.0</td>\n",
       "      <td>10.0</td>\n",
       "      <td>9.0</td>\n",
       "      <td>f</td>\n",
       "      <td>strict_14_with_grace_period</td>\n",
       "      <td>f</td>\n",
       "      <td>f</td>\n",
       "      <td>2</td>\n",
       "    </tr>\n",
       "    <tr>\n",
       "      <th>2</th>\n",
       "      <td>25428</td>\n",
       "      <td>2019-08-09</td>\n",
       "      <td>Joan</td>\n",
       "      <td>2009-11-20</td>\n",
       "      <td>New York, New York, United States</td>\n",
       "      <td>We are a retired couple who live in NYC, and h...</td>\n",
       "      <td>f</td>\n",
       "      <td>t</td>\n",
       "      <td>f</td>\n",
       "      <td>Grachtengordel</td>\n",
       "      <td>...</td>\n",
       "      <td>10.0</td>\n",
       "      <td>10.0</td>\n",
       "      <td>10.0</td>\n",
       "      <td>10.0</td>\n",
       "      <td>10.0</td>\n",
       "      <td>f</td>\n",
       "      <td>strict_14_with_grace_period</td>\n",
       "      <td>f</td>\n",
       "      <td>f</td>\n",
       "      <td>2</td>\n",
       "    </tr>\n",
       "    <tr>\n",
       "      <th>3</th>\n",
       "      <td>27886</td>\n",
       "      <td>2019-08-09</td>\n",
       "      <td>Flip</td>\n",
       "      <td>2010-03-23</td>\n",
       "      <td>Amsterdam, Noord-Holland, The Netherlands</td>\n",
       "      <td>Marjan works in \"eye\" the dutch filmmuseum, an...</td>\n",
       "      <td>t</td>\n",
       "      <td>t</td>\n",
       "      <td>t</td>\n",
       "      <td>Westelijke Eilanden</td>\n",
       "      <td>...</td>\n",
       "      <td>10.0</td>\n",
       "      <td>10.0</td>\n",
       "      <td>10.0</td>\n",
       "      <td>10.0</td>\n",
       "      <td>10.0</td>\n",
       "      <td>t</td>\n",
       "      <td>strict_14_with_grace_period</td>\n",
       "      <td>f</td>\n",
       "      <td>f</td>\n",
       "      <td>1</td>\n",
       "    </tr>\n",
       "    <tr>\n",
       "      <th>4</th>\n",
       "      <td>28871</td>\n",
       "      <td>2019-08-09</td>\n",
       "      <td>Edwin</td>\n",
       "      <td>2010-05-13</td>\n",
       "      <td>Amsterdam, Noord-Holland, The Netherlands</td>\n",
       "      <td>Hi</td>\n",
       "      <td>t</td>\n",
       "      <td>t</td>\n",
       "      <td>t</td>\n",
       "      <td>Amsterdam Centrum</td>\n",
       "      <td>...</td>\n",
       "      <td>10.0</td>\n",
       "      <td>10.0</td>\n",
       "      <td>10.0</td>\n",
       "      <td>10.0</td>\n",
       "      <td>10.0</td>\n",
       "      <td>f</td>\n",
       "      <td>moderate</td>\n",
       "      <td>f</td>\n",
       "      <td>f</td>\n",
       "      <td>3</td>\n",
       "    </tr>\n",
       "  </tbody>\n",
       "</table>\n",
       "<p>5 rows × 41 columns</p>\n",
       "</div>"
      ],
      "text/plain": [
       "      id last_scraped  host_name  host_since  \\\n",
       "0   2818   2019-08-09     Daniel  2008-09-24   \n",
       "1  20168   2019-08-09  Alexander  2009-12-02   \n",
       "2  25428   2019-08-09       Joan  2009-11-20   \n",
       "3  27886   2019-08-09       Flip  2010-03-23   \n",
       "4  28871   2019-08-09      Edwin  2010-05-13   \n",
       "\n",
       "                               host_location  \\\n",
       "0  Amsterdam, Noord-Holland, The Netherlands   \n",
       "1  Amsterdam, Noord-Holland, The Netherlands   \n",
       "2          New York, New York, United States   \n",
       "3  Amsterdam, Noord-Holland, The Netherlands   \n",
       "4  Amsterdam, Noord-Holland, The Netherlands   \n",
       "\n",
       "                                          host_about host_is_superhost  \\\n",
       "0  Upon arriving in Amsterdam, one can imagine as...                 t   \n",
       "1  Secondary phone nr. + (Phone number hidden by ...                 f   \n",
       "2  We are a retired couple who live in NYC, and h...                 f   \n",
       "3  Marjan works in \"eye\" the dutch filmmuseum, an...                 t   \n",
       "4                                                 Hi                 t   \n",
       "\n",
       "  host_has_profile_pic host_identity_verified        neighbourhood  ...  \\\n",
       "0                    t                      f       Indische Buurt  ...   \n",
       "1                    t                      f       Grachtengordel  ...   \n",
       "2                    t                      f       Grachtengordel  ...   \n",
       "3                    t                      t  Westelijke Eilanden  ...   \n",
       "4                    t                      t    Amsterdam Centrum  ...   \n",
       "\n",
       "  review_scores_cleanliness  review_scores_checkin  \\\n",
       "0                      10.0                   10.0   \n",
       "1                      10.0                   10.0   \n",
       "2                      10.0                   10.0   \n",
       "3                      10.0                   10.0   \n",
       "4                      10.0                   10.0   \n",
       "\n",
       "   review_scores_communication review_scores_location review_scores_value  \\\n",
       "0                         10.0                   10.0                10.0   \n",
       "1                         10.0                   10.0                 9.0   \n",
       "2                         10.0                   10.0                10.0   \n",
       "3                         10.0                   10.0                10.0   \n",
       "4                         10.0                   10.0                10.0   \n",
       "\n",
       "   instant_bookable          cancellation_policy  \\\n",
       "0                 t  strict_14_with_grace_period   \n",
       "1                 f  strict_14_with_grace_period   \n",
       "2                 f  strict_14_with_grace_period   \n",
       "3                 t  strict_14_with_grace_period   \n",
       "4                 f                     moderate   \n",
       "\n",
       "   require_guest_profile_picture  require_guest_phone_verification  \\\n",
       "0                              f                                 f   \n",
       "1                              f                                 f   \n",
       "2                              f                                 f   \n",
       "3                              f                                 f   \n",
       "4                              f                                 f   \n",
       "\n",
       "  calculated_host_listings_count  \n",
       "0                              1  \n",
       "1                              2  \n",
       "2                              2  \n",
       "3                              1  \n",
       "4                              3  \n",
       "\n",
       "[5 rows x 41 columns]"
      ]
     },
     "execution_count": 20,
     "metadata": {},
     "output_type": "execute_result"
    }
   ],
   "source": [
    "# create a dataframe containing the selected features\n",
    "listings = pd.concat([sublist_1, sublist_2, sublist_3, sublist_4, sublist_5, sublist_6], axis=1)\n",
    "listings.head(5)"
   ]
  },
  {
   "cell_type": "code",
   "execution_count": 21,
   "metadata": {},
   "outputs": [
    {
     "data": {
      "text/plain": [
       "(20677, 41)"
      ]
     },
     "execution_count": 21,
     "metadata": {},
     "output_type": "execute_result"
    }
   ],
   "source": [
    "listings.shape"
   ]
  },
  {
   "cell_type": "markdown",
   "metadata": {},
   "source": [
    "We have successfully reduced the number of features from 106 to 41. Next, we shall drop all listings without reviews as such listings likely do not have records."
   ]
  },
  {
   "cell_type": "code",
   "execution_count": 22,
   "metadata": {},
   "outputs": [
    {
     "data": {
      "text/plain": [
       "(18084, 41)"
      ]
     },
     "execution_count": 22,
     "metadata": {},
     "output_type": "execute_result"
    }
   ],
   "source": [
    "listings = listings[listings['number_of_reviews']>0]\n",
    "listings.shape"
   ]
  },
  {
   "cell_type": "markdown",
   "metadata": {},
   "source": [
    "This has reduced the number of listings from 20677 to 18084. Now let us fill missing values to enable us do mathematical operations. For cleaning fee and security deposit, we can input 0 and \" \" for host_about."
   ]
  },
  {
   "cell_type": "code",
   "execution_count": 23,
   "metadata": {},
   "outputs": [
    {
     "data": {
      "text/plain": [
       "Index(['host_name', 'host_since', 'host_location', 'host_about',\n",
       "       'host_is_superhost', 'host_has_profile_pic', 'host_identity_verified',\n",
       "       'neighbourhood', 'bathrooms', 'bedrooms', 'beds', 'security_deposit',\n",
       "       'cleaning_fee', 'review_scores_accuracy', 'review_scores_cleanliness',\n",
       "       'review_scores_checkin', 'review_scores_communication',\n",
       "       'review_scores_location', 'review_scores_value'],\n",
       "      dtype='object')"
      ]
     },
     "execution_count": 23,
     "metadata": {},
     "output_type": "execute_result"
    }
   ],
   "source": [
    "# List of columns with null values\n",
    "listings.columns[listings.isnull().any()]"
   ]
  },
  {
   "cell_type": "code",
   "execution_count": 24,
   "metadata": {},
   "outputs": [
    {
     "data": {
      "text/plain": [
       "cleaning_fee        0\n",
       "security_deposit    0\n",
       "host_about          0\n",
       "dtype: int64"
      ]
     },
     "execution_count": 24,
     "metadata": {},
     "output_type": "execute_result"
    }
   ],
   "source": [
    "# Fill missing values in selected columns\n",
    "listings.fillna({'cleaning_fee':0, 'security_deposit':0, 'host_about':\" \"}, inplace = True)\n",
    "listings[['cleaning_fee', 'security_deposit', 'host_about']].isnull().sum()"
   ]
  },
  {
   "cell_type": "markdown",
   "metadata": {},
   "source": [
    "Now let's drop all rows with missing values"
   ]
  },
  {
   "cell_type": "code",
   "execution_count": 25,
   "metadata": {},
   "outputs": [
    {
     "data": {
      "text/plain": [
       "(17104, 41)"
      ]
     },
     "execution_count": 25,
     "metadata": {},
     "output_type": "execute_result"
    }
   ],
   "source": [
    "listings.dropna(axis = 0, inplace = True)\n",
    "listings.shape"
   ]
  },
  {
   "cell_type": "markdown",
   "metadata": {},
   "source": [
    "The size of our data has further reduced to 17104 observation. We can now remove $ from the following variables and convert to float values:\n",
    "    - price\n",
    "    - security_deposit\n",
    "    - cleaning_fee\n",
    "    - extra_people"
   ]
  },
  {
   "cell_type": "code",
   "execution_count": 26,
   "metadata": {},
   "outputs": [],
   "source": [
    "# Function to remove characters\n",
    "def removechar(x):\n",
    "    # Ensure everything is a str\n",
    "    x = str(x)\n",
    "    # remove $\n",
    "    new = x.replace('$','')\n",
    "    # remove , and convert to float\n",
    "    clean = float(new.replace(',',''))\n",
    "    return clean"
   ]
  },
  {
   "cell_type": "code",
   "execution_count": 27,
   "metadata": {},
   "outputs": [],
   "source": [
    "# apply the function on the affected columns\n",
    "listings['price'] = listings['price'].apply(removechar)\n",
    "listings['security_deposit'] = listings['security_deposit'].apply(removechar)\n",
    "listings['cleaning_fee'] = listings['cleaning_fee'].apply(removechar)\n",
    "listings['extra_people'] = listings['extra_people'].apply(removechar)"
   ]
  },
  {
   "cell_type": "markdown",
   "metadata": {},
   "source": [
    " # Exploratory Analysis"
   ]
  },
  {
   "cell_type": "code",
   "execution_count": 28,
   "metadata": {},
   "outputs": [],
   "source": [
    "# import relevant libraries\n",
    "\n",
    "import matplotlib\n",
    "from collections import Counter\n",
    "%matplotlib inline\n",
    "import matplotlib.pyplot as plt\n",
    "matplotlib.style.use('ggplot')\n",
    "import seaborn as sns"
   ]
  },
  {
   "cell_type": "code",
   "execution_count": 29,
   "metadata": {},
   "outputs": [
    {
     "data": {
      "text/html": [
       "<div>\n",
       "<style scoped>\n",
       "    .dataframe tbody tr th:only-of-type {\n",
       "        vertical-align: middle;\n",
       "    }\n",
       "\n",
       "    .dataframe tbody tr th {\n",
       "        vertical-align: top;\n",
       "    }\n",
       "\n",
       "    .dataframe thead th {\n",
       "        text-align: right;\n",
       "    }\n",
       "</style>\n",
       "<table border=\"1\" class=\"dataframe\">\n",
       "  <thead>\n",
       "    <tr style=\"text-align: right;\">\n",
       "      <th></th>\n",
       "      <th>room_type</th>\n",
       "      <th>Total_Listings</th>\n",
       "    </tr>\n",
       "  </thead>\n",
       "  <tbody>\n",
       "    <tr>\n",
       "      <th>0</th>\n",
       "      <td>Entire home/apt</td>\n",
       "      <td>13648</td>\n",
       "    </tr>\n",
       "    <tr>\n",
       "      <th>1</th>\n",
       "      <td>Private room</td>\n",
       "      <td>3392</td>\n",
       "    </tr>\n",
       "    <tr>\n",
       "      <th>2</th>\n",
       "      <td>Shared room</td>\n",
       "      <td>64</td>\n",
       "    </tr>\n",
       "  </tbody>\n",
       "</table>\n",
       "</div>"
      ],
      "text/plain": [
       "         room_type  Total_Listings\n",
       "0  Entire home/apt           13648\n",
       "1     Private room            3392\n",
       "2      Shared room              64"
      ]
     },
     "execution_count": 29,
     "metadata": {},
     "output_type": "execute_result"
    }
   ],
   "source": [
    "# group listings based on room_type and rename the id column for clarity\n",
    "\n",
    "room_type_df = listings.groupby('room_type').id.count().reset_index().rename(columns={'id':'Total_Listings'})\n",
    "room_type_df"
   ]
  },
  {
   "cell_type": "code",
   "execution_count": 30,
   "metadata": {},
   "outputs": [
    {
     "data": {
      "text/plain": [
       "<matplotlib.axes._subplots.AxesSubplot at 0x1ee06b36898>"
      ]
     },
     "execution_count": 30,
     "metadata": {},
     "output_type": "execute_result"
    },
    {
     "data": {
      "image/png": "[encoded data removed]",
      "text/plain": [
       "<Figure size 576x576 with 1 Axes>"
      ]
     },
     "metadata": {},
     "output_type": "display_data"
    }
   ],
   "source": [
    "r_type = listings['room_type']\n",
    "r = Counter(r_type)\n",
    "\n",
    "r_df = pd.DataFrame.from_dict(r, orient='index').sort_values(by=0)\n",
    "r_df.columns = ['r_type']\n",
    "r_df.plot.pie(y = 'r_type', colormap = 'Oranges', figsize=(8,8), \n",
    "                 fontsize = 20, autopct = '%.2f',legend = False,\n",
    "                 title = 'Distribution of Listings by Room_Type')"
   ]
  },
  {
   "cell_type": "code",
   "execution_count": 31,
   "metadata": {},
   "outputs": [
    {
     "data": {
      "text/plain": [
       "Text(0, 0.5, 'Total Listings')"
      ]
     },
     "execution_count": 31,
     "metadata": {},
     "output_type": "execute_result"
    },
    {
     "data": {
      "image/png": "[encoded data removed]",
      "text/plain": [
       "<Figure size 1080x576 with 1 Axes>"
      ]
     },
     "metadata": {},
     "output_type": "display_data"
    }
   ],
   "source": [
    "# Analyzing and plotting the number of listings based on their property type\n",
    "type_of_property = listings.groupby('property_type').id.count().reset_index().rename(columns={'id':'Total_Listings'})\n",
    "\n",
    "objects = type_of_property['property_type']\n",
    "y_pos = type_of_property['Total_Listings']\n",
    "type_of_property.plot(kind='bar', x='property_type',y='Total_Listings',\n",
    "           figsize =(15,8), legend = False,\n",
    "           title = 'Distribution of Listings Based on Property_Type')\n",
    "plt.ylabel('Property Type')\n",
    "plt.ylabel('Total Listings')"
   ]
  },
  {
   "cell_type": "markdown",
   "metadata": {},
   "source": [
    "We can see that entire home/apt and apartments are more poplular in the listings."
   ]
  },
  {
   "cell_type": "code",
   "execution_count": 32,
   "metadata": {},
   "outputs": [
    {
     "data": {
      "text/html": [
       "<div>\n",
       "<style scoped>\n",
       "    .dataframe tbody tr th:only-of-type {\n",
       "        vertical-align: middle;\n",
       "    }\n",
       "\n",
       "    .dataframe tbody tr th {\n",
       "        vertical-align: top;\n",
       "    }\n",
       "\n",
       "    .dataframe thead th {\n",
       "        text-align: right;\n",
       "    }\n",
       "</style>\n",
       "<table border=\"1\" class=\"dataframe\">\n",
       "  <thead>\n",
       "    <tr style=\"text-align: right;\">\n",
       "      <th></th>\n",
       "      <th>property_type</th>\n",
       "      <th>room_type</th>\n",
       "      <th>price</th>\n",
       "    </tr>\n",
       "  </thead>\n",
       "  <tbody>\n",
       "    <tr>\n",
       "      <th>48</th>\n",
       "      <td>Lighthouse</td>\n",
       "      <td>Entire home/apt</td>\n",
       "      <td>4500.000000</td>\n",
       "    </tr>\n",
       "    <tr>\n",
       "      <th>23</th>\n",
       "      <td>Castle</td>\n",
       "      <td>Entire home/apt</td>\n",
       "      <td>550.000000</td>\n",
       "    </tr>\n",
       "    <tr>\n",
       "      <th>38</th>\n",
       "      <td>Hostel</td>\n",
       "      <td>Shared room</td>\n",
       "      <td>447.500000</td>\n",
       "    </tr>\n",
       "    <tr>\n",
       "      <th>39</th>\n",
       "      <td>Hotel</td>\n",
       "      <td>Private room</td>\n",
       "      <td>364.857143</td>\n",
       "    </tr>\n",
       "    <tr>\n",
       "      <th>37</th>\n",
       "      <td>Hostel</td>\n",
       "      <td>Private room</td>\n",
       "      <td>310.000000</td>\n",
       "    </tr>\n",
       "  </tbody>\n",
       "</table>\n",
       "</div>"
      ],
      "text/plain": [
       "   property_type        room_type        price\n",
       "48    Lighthouse  Entire home/apt  4500.000000\n",
       "23        Castle  Entire home/apt   550.000000\n",
       "38        Hostel      Shared room   447.500000\n",
       "39         Hotel     Private room   364.857143\n",
       "37        Hostel     Private room   310.000000"
      ]
     },
     "execution_count": 32,
     "metadata": {},
     "output_type": "execute_result"
    }
   ],
   "source": [
    "# Price distribution by room type and property type\n",
    "\n",
    "type_of_property = listings.groupby(['property_type','room_type']).price.mean().reset_index().sort_values('price', ascending=[0])\n",
    "type_of_property.head()"
   ]
  },
  {
   "cell_type": "code",
   "execution_count": 33,
   "metadata": {},
   "outputs": [
    {
     "data": {
      "text/plain": [
       "<matplotlib.axes._subplots.AxesSubplot at 0x1ee06f16080>"
      ]
     },
     "execution_count": 33,
     "metadata": {},
     "output_type": "execute_result"
    },
    {
     "data": {
      "image/png": "[encoded data removed]",
      "text/plain": [
       "<Figure size 864x864 with 2 Axes>"
      ]
     },
     "metadata": {},
     "output_type": "display_data"
    }
   ],
   "source": [
    "# visual representation using heat map\n",
    "plt.figure(figsize=(12,12))\n",
    "sns.heatmap(listings.groupby([\n",
    "        'property_type', 'room_type']).price.mean().unstack(),annot=True, fmt=\".0f\")"
   ]
  },
  {
   "cell_type": "markdown",
   "metadata": {},
   "source": [
    "The figure above shows the price breakdown based on property_type and room types. It can be seen that for different property types,prices for Entire home/apartment are the maximum, indicting that they are key factors in the determination of a listing."
   ]
  },
  {
   "cell_type": "code",
   "execution_count": 34,
   "metadata": {},
   "outputs": [
    {
     "data": {
      "text/plain": [
       "<matplotlib.axes._subplots.AxesSubplot at 0x1ee07a41b70>"
      ]
     },
     "execution_count": 34,
     "metadata": {},
     "output_type": "execute_result"
    },
    {
     "data": {
      "image/png": "[encoded data removed]",
      "text/plain": [
       "<Figure size 864x864 with 2 Axes>"
      ]
     },
     "metadata": {},
     "output_type": "display_data"
    }
   ],
   "source": [
    "# price variation per number of bedrooms\n",
    "plt.figure(figsize=(12,12))\n",
    "sns.heatmap(listings.groupby([\n",
    "        'neighbourhood_cleansed', 'bedrooms']).price.mean().unstack(),annot=True, fmt=\".0f\")"
   ]
  },
  {
   "cell_type": "markdown",
   "metadata": {},
   "source": [
    "It can be seen that prices vary with neighbourhood and number of bedrooms. Next we shall calculate the length of listing and duration of time a host has been with airbnb."
   ]
  },
  {
   "cell_type": "code",
   "execution_count": 35,
   "metadata": {},
   "outputs": [],
   "source": [
    "#convert date values from str to date format\n",
    "import datetime as dt\n",
    "listings['last_review'] = pd.to_datetime(listings['last_review']).dt.date\n",
    "listings['first_review'] = pd.to_datetime(listings['first_review']).dt.date\n",
    "listings['host_since'] = pd.to_datetime(listings['host_since']).dt.date\n",
    "\n",
    "#create new columns for length of time of list and host's membership on airbnb in days.\n",
    "listings['list_duration'] = (listings['last_review'] - listings['first_review']).dt.days\n",
    "listings['host_duration'] = (listings['last_review'] - listings['host_since']).dt.days\n"
   ]
  },
  {
   "cell_type": "code",
   "execution_count": 36,
   "metadata": {},
   "outputs": [
    {
     "data": {
      "text/plain": [
       "min        0.000000\n",
       "mean     628.474333\n",
       "max     3780.000000\n",
       "Name: list_duration, dtype: float64"
      ]
     },
     "execution_count": 36,
     "metadata": {},
     "output_type": "execute_result"
    }
   ],
   "source": [
    "listings['list_duration'].describe()[['min', 'mean', 'max']]"
   ]
  },
  {
   "cell_type": "code",
   "execution_count": 37,
   "metadata": {},
   "outputs": [
    {
     "data": {
      "text/plain": [
       "min        3.000000\n",
       "mean    1370.288704\n",
       "max     3967.000000\n",
       "Name: host_duration, dtype: float64"
      ]
     },
     "execution_count": 37,
     "metadata": {},
     "output_type": "execute_result"
    }
   ],
   "source": [
    "listings['host_duration'].describe()[['min', 'mean', 'max']]"
   ]
  },
  {
   "cell_type": "markdown",
   "metadata": {},
   "source": [
    "We can see that the average duration for listings is 629 days. That doesn't necessarily mean that the listings have been unoccupied for that durtion of time. We can also see that the least and highest duration of hosts on the platform are greater than those of list_duration, which seem to indicate that most people register as hosts without posting a listing right away."
   ]
  },
  {
   "cell_type": "code",
   "execution_count": 38,
   "metadata": {},
   "outputs": [
    {
     "name": "stdout",
     "output_type": "stream",
     "text": [
      "The first host joined on 24 September 2008 and the last host joined on 30 July 2019\n"
     ]
    }
   ],
   "source": [
    "print(\"The first host joined on\", min(listings.host_since).strftime('%d %B %Y'), \"and the last host joined on\", max(listings.host_since).strftime('%d %B %Y'))"
   ]
  },
  {
   "cell_type": "code",
   "execution_count": 44,
   "metadata": {},
   "outputs": [
    {
     "data": {
      "text/html": [
       "<div>\n",
       "<style scoped>\n",
       "    .dataframe tbody tr th:only-of-type {\n",
       "        vertical-align: middle;\n",
       "    }\n",
       "\n",
       "    .dataframe tbody tr th {\n",
       "        vertical-align: top;\n",
       "    }\n",
       "\n",
       "    .dataframe thead th {\n",
       "        text-align: right;\n",
       "    }\n",
       "</style>\n",
       "<table border=\"1\" class=\"dataframe\">\n",
       "  <thead>\n",
       "    <tr style=\"text-align: right;\">\n",
       "      <th></th>\n",
       "      <th>id</th>\n",
       "      <th>number_of_reviews</th>\n",
       "      <th>minimum_nights</th>\n",
       "      <th>accommodates</th>\n",
       "      <th>bedrooms</th>\n",
       "      <th>beds</th>\n",
       "      <th>estimated_revenue</th>\n",
       "    </tr>\n",
       "  </thead>\n",
       "  <tbody>\n",
       "    <tr>\n",
       "      <th>16709</th>\n",
       "      <td>28651212</td>\n",
       "      <td>10</td>\n",
       "      <td>365</td>\n",
       "      <td>3</td>\n",
       "      <td>1.0</td>\n",
       "      <td>2.0</td>\n",
       "      <td>1095000.0</td>\n",
       "    </tr>\n",
       "    <tr>\n",
       "      <th>1779</th>\n",
       "      <td>3145498</td>\n",
       "      <td>15</td>\n",
       "      <td>1001</td>\n",
       "      <td>4</td>\n",
       "      <td>6.0</td>\n",
       "      <td>9.0</td>\n",
       "      <td>314314.0</td>\n",
       "    </tr>\n",
       "    <tr>\n",
       "      <th>3184</th>\n",
       "      <td>5950023</td>\n",
       "      <td>17</td>\n",
       "      <td>1001</td>\n",
       "      <td>4</td>\n",
       "      <td>4.0</td>\n",
       "      <td>4.0</td>\n",
       "      <td>260260.0</td>\n",
       "    </tr>\n",
       "    <tr>\n",
       "      <th>122</th>\n",
       "      <td>258273</td>\n",
       "      <td>8</td>\n",
       "      <td>30</td>\n",
       "      <td>4</td>\n",
       "      <td>1.0</td>\n",
       "      <td>1.0</td>\n",
       "      <td>240000.0</td>\n",
       "    </tr>\n",
       "    <tr>\n",
       "      <th>6394</th>\n",
       "      <td>11830487</td>\n",
       "      <td>5</td>\n",
       "      <td>200</td>\n",
       "      <td>2</td>\n",
       "      <td>1.0</td>\n",
       "      <td>1.0</td>\n",
       "      <td>199800.0</td>\n",
       "    </tr>\n",
       "  </tbody>\n",
       "</table>\n",
       "</div>"
      ],
      "text/plain": [
       "             id  number_of_reviews  minimum_nights  accommodates  bedrooms  \\\n",
       "16709  28651212                 10             365             3       1.0   \n",
       "1779    3145498                 15            1001             4       6.0   \n",
       "3184    5950023                 17            1001             4       4.0   \n",
       "122      258273                  8              30             4       1.0   \n",
       "6394   11830487                  5             200             2       1.0   \n",
       "\n",
       "       beds  estimated_revenue  \n",
       "16709   2.0          1095000.0  \n",
       "1779    9.0           314314.0  \n",
       "3184    4.0           260260.0  \n",
       "122     1.0           240000.0  \n",
       "6394    1.0           199800.0  "
      ]
     },
     "execution_count": 44,
     "metadata": {},
     "output_type": "execute_result"
    }
   ],
   "source": [
    "# Top revenue earners\n",
    "listings['estimated_revenue'] = listings['price'] *listings['minimum_nights']\n",
    "earnings = listings[['id','number_of_reviews','minimum_nights','accommodates','bedrooms','beds','estimated_revenue']].sort_values('estimated_revenue', ascending=False)\n",
    "earnings.head()"
   ]
  },
  {
   "cell_type": "code",
   "execution_count": 46,
   "metadata": {},
   "outputs": [
    {
     "data": {
      "text/html": [
       "<div>\n",
       "<style scoped>\n",
       "    .dataframe tbody tr th:only-of-type {\n",
       "        vertical-align: middle;\n",
       "    }\n",
       "\n",
       "    .dataframe tbody tr th {\n",
       "        vertical-align: top;\n",
       "    }\n",
       "\n",
       "    .dataframe thead th {\n",
       "        text-align: right;\n",
       "    }\n",
       "</style>\n",
       "<table border=\"1\" class=\"dataframe\">\n",
       "  <thead>\n",
       "    <tr style=\"text-align: right;\">\n",
       "      <th></th>\n",
       "      <th>id</th>\n",
       "    </tr>\n",
       "    <tr>\n",
       "      <th>minimum_nights</th>\n",
       "      <th></th>\n",
       "    </tr>\n",
       "  </thead>\n",
       "  <tbody>\n",
       "    <tr>\n",
       "      <th>1</th>\n",
       "      <td>2373</td>\n",
       "    </tr>\n",
       "    <tr>\n",
       "      <th>2</th>\n",
       "      <td>7103</td>\n",
       "    </tr>\n",
       "    <tr>\n",
       "      <th>3</th>\n",
       "      <td>4506</td>\n",
       "    </tr>\n",
       "    <tr>\n",
       "      <th>4</th>\n",
       "      <td>1454</td>\n",
       "    </tr>\n",
       "    <tr>\n",
       "      <th>5</th>\n",
       "      <td>775</td>\n",
       "    </tr>\n",
       "    <tr>\n",
       "      <th>6</th>\n",
       "      <td>200</td>\n",
       "    </tr>\n",
       "    <tr>\n",
       "      <th>7</th>\n",
       "      <td>353</td>\n",
       "    </tr>\n",
       "    <tr>\n",
       "      <th>8</th>\n",
       "      <td>26</td>\n",
       "    </tr>\n",
       "    <tr>\n",
       "      <th>9</th>\n",
       "      <td>10</td>\n",
       "    </tr>\n",
       "    <tr>\n",
       "      <th>10</th>\n",
       "      <td>58</td>\n",
       "    </tr>\n",
       "    <tr>\n",
       "      <th>11</th>\n",
       "      <td>4</td>\n",
       "    </tr>\n",
       "    <tr>\n",
       "      <th>12</th>\n",
       "      <td>11</td>\n",
       "    </tr>\n",
       "    <tr>\n",
       "      <th>13</th>\n",
       "      <td>9</td>\n",
       "    </tr>\n",
       "    <tr>\n",
       "      <th>14</th>\n",
       "      <td>55</td>\n",
       "    </tr>\n",
       "    <tr>\n",
       "      <th>15</th>\n",
       "      <td>7</td>\n",
       "    </tr>\n",
       "    <tr>\n",
       "      <th>16</th>\n",
       "      <td>1</td>\n",
       "    </tr>\n",
       "    <tr>\n",
       "      <th>17</th>\n",
       "      <td>1</td>\n",
       "    </tr>\n",
       "    <tr>\n",
       "      <th>18</th>\n",
       "      <td>2</td>\n",
       "    </tr>\n",
       "    <tr>\n",
       "      <th>19</th>\n",
       "      <td>2</td>\n",
       "    </tr>\n",
       "    <tr>\n",
       "      <th>20</th>\n",
       "      <td>22</td>\n",
       "    </tr>\n",
       "    <tr>\n",
       "      <th>21</th>\n",
       "      <td>14</td>\n",
       "    </tr>\n",
       "    <tr>\n",
       "      <th>22</th>\n",
       "      <td>1</td>\n",
       "    </tr>\n",
       "    <tr>\n",
       "      <th>24</th>\n",
       "      <td>3</td>\n",
       "    </tr>\n",
       "    <tr>\n",
       "      <th>25</th>\n",
       "      <td>5</td>\n",
       "    </tr>\n",
       "    <tr>\n",
       "      <th>28</th>\n",
       "      <td>9</td>\n",
       "    </tr>\n",
       "    <tr>\n",
       "      <th>29</th>\n",
       "      <td>5</td>\n",
       "    </tr>\n",
       "    <tr>\n",
       "      <th>30</th>\n",
       "      <td>36</td>\n",
       "    </tr>\n",
       "    <tr>\n",
       "      <th>31</th>\n",
       "      <td>2</td>\n",
       "    </tr>\n",
       "    <tr>\n",
       "      <th>35</th>\n",
       "      <td>1</td>\n",
       "    </tr>\n",
       "    <tr>\n",
       "      <th>40</th>\n",
       "      <td>2</td>\n",
       "    </tr>\n",
       "    <tr>\n",
       "      <th>41</th>\n",
       "      <td>1</td>\n",
       "    </tr>\n",
       "    <tr>\n",
       "      <th>45</th>\n",
       "      <td>2</td>\n",
       "    </tr>\n",
       "    <tr>\n",
       "      <th>50</th>\n",
       "      <td>1</td>\n",
       "    </tr>\n",
       "    <tr>\n",
       "      <th>52</th>\n",
       "      <td>1</td>\n",
       "    </tr>\n",
       "    <tr>\n",
       "      <th>59</th>\n",
       "      <td>2</td>\n",
       "    </tr>\n",
       "    <tr>\n",
       "      <th>60</th>\n",
       "      <td>14</td>\n",
       "    </tr>\n",
       "    <tr>\n",
       "      <th>70</th>\n",
       "      <td>1</td>\n",
       "    </tr>\n",
       "    <tr>\n",
       "      <th>89</th>\n",
       "      <td>1</td>\n",
       "    </tr>\n",
       "    <tr>\n",
       "      <th>90</th>\n",
       "      <td>10</td>\n",
       "    </tr>\n",
       "    <tr>\n",
       "      <th>95</th>\n",
       "      <td>1</td>\n",
       "    </tr>\n",
       "    <tr>\n",
       "      <th>99</th>\n",
       "      <td>1</td>\n",
       "    </tr>\n",
       "    <tr>\n",
       "      <th>100</th>\n",
       "      <td>3</td>\n",
       "    </tr>\n",
       "    <tr>\n",
       "      <th>150</th>\n",
       "      <td>1</td>\n",
       "    </tr>\n",
       "    <tr>\n",
       "      <th>180</th>\n",
       "      <td>2</td>\n",
       "    </tr>\n",
       "    <tr>\n",
       "      <th>186</th>\n",
       "      <td>1</td>\n",
       "    </tr>\n",
       "    <tr>\n",
       "      <th>200</th>\n",
       "      <td>1</td>\n",
       "    </tr>\n",
       "    <tr>\n",
       "      <th>222</th>\n",
       "      <td>1</td>\n",
       "    </tr>\n",
       "    <tr>\n",
       "      <th>240</th>\n",
       "      <td>1</td>\n",
       "    </tr>\n",
       "    <tr>\n",
       "      <th>300</th>\n",
       "      <td>3</td>\n",
       "    </tr>\n",
       "    <tr>\n",
       "      <th>365</th>\n",
       "      <td>1</td>\n",
       "    </tr>\n",
       "    <tr>\n",
       "      <th>999</th>\n",
       "      <td>1</td>\n",
       "    </tr>\n",
       "    <tr>\n",
       "      <th>1000</th>\n",
       "      <td>1</td>\n",
       "    </tr>\n",
       "    <tr>\n",
       "      <th>1001</th>\n",
       "      <td>3</td>\n",
       "    </tr>\n",
       "  </tbody>\n",
       "</table>\n",
       "</div>"
      ],
      "text/plain": [
       "                  id\n",
       "minimum_nights      \n",
       "1               2373\n",
       "2               7103\n",
       "3               4506\n",
       "4               1454\n",
       "5                775\n",
       "6                200\n",
       "7                353\n",
       "8                 26\n",
       "9                 10\n",
       "10                58\n",
       "11                 4\n",
       "12                11\n",
       "13                 9\n",
       "14                55\n",
       "15                 7\n",
       "16                 1\n",
       "17                 1\n",
       "18                 2\n",
       "19                 2\n",
       "20                22\n",
       "21                14\n",
       "22                 1\n",
       "24                 3\n",
       "25                 5\n",
       "28                 9\n",
       "29                 5\n",
       "30                36\n",
       "31                 2\n",
       "35                 1\n",
       "40                 2\n",
       "41                 1\n",
       "45                 2\n",
       "50                 1\n",
       "52                 1\n",
       "59                 2\n",
       "60                14\n",
       "70                 1\n",
       "89                 1\n",
       "90                10\n",
       "95                 1\n",
       "99                 1\n",
       "100                3\n",
       "150                1\n",
       "180                2\n",
       "186                1\n",
       "200                1\n",
       "222                1\n",
       "240                1\n",
       "300                3\n",
       "365                1\n",
       "999                1\n",
       "1000               1\n",
       "1001               3"
      ]
     },
     "execution_count": 46,
     "metadata": {},
     "output_type": "execute_result"
    }
   ],
   "source": [
    "# Check distribution by number of minimum nights\n",
    "listings[['id','minimum_nights']].groupby(['minimum_nights']).count().sort_values('minimum_nights')"
   ]
  },
  {
   "cell_type": "markdown",
   "metadata": {},
   "source": [
    "Minimum nights of 999, 1000 and 1001 look extreme in reality. They could be data anomalies."
   ]
  },
  {
   "cell_type": "markdown",
   "metadata": {},
   "source": [
    "# Additional Preprocessing\n",
    "First things first, we must encode the categorical values as follows:\n",
    "    - host_is_superhost - conversion from t/f to 1/0 values\n",
    "    - host_has_profile_pic - conversion from t/f to 1/0 values\n",
    "    - host_identity_verified - conversion from t/f to 1/0 values\n",
    "    - instant_bookable - conversion from t/f to 1/0 values\n",
    "    - require_guest_profile_picture - conversion from t/f to 1/0 values\n",
    "    - require_guest_phone_verification - conversion from t/f to 1/0 values\n"
   ]
  },
  {
   "cell_type": "code",
   "execution_count": 103,
   "metadata": {},
   "outputs": [],
   "source": [
    "listings_new = listings.apply(lambda x: x.map({'f':0, 't':1}) \n",
    "               if x.name == 'host_is_superhost' \n",
    "               or x.name == 'host_has_profile_pic'\n",
    "               or x.name == 'host_identity_verified'\n",
    "               or x.name == 'instant_bookable'\n",
    "               or x.name == 'require_guest_profile_picture'\n",
    "               or x.name == 'require_guest_phone_verification'\n",
    "               else x)\n",
    "\n"
   ]
  },
  {
   "cell_type": "markdown",
   "metadata": {},
   "source": [
    "We will replace the non-alphanumeric characters for uniformity in:\n",
    "    - neighbourhood_group_cleansed \n",
    "    - property_type \n",
    "    - room_type \n",
    "    - bed_type \n",
    "    - cancellation_policy"
   ]
  },
  {
   "cell_type": "code",
   "execution_count": 105,
   "metadata": {},
   "outputs": [],
   "source": [
    "#removing non_alphanumeric characters\n",
    "#\"[^[:alnum:]]\", \"_\"\n",
    "listings_new['neighbourhood_cleansed']=listings['neighbourhood_cleansed'].replace('[^[:alnum:]]', '_')\n",
    "listings_new['property_type']=listings['property_type'].replace('[^[:alnum:]]', '_')\n",
    "listings_new['bed_type']=listings['bed_type'].replace('[^[:alnum:]]', '_')\n",
    "listings_new['cancellation_policy']=listings['cancellation_policy'].replace('[^[:alnum:]]', '_')\n",
    "listings_new['room_type']=listings['room_type'].replace('[^[:alnum:]]', '_')"
   ]
  },
  {
   "cell_type": "code",
   "execution_count": 106,
   "metadata": {},
   "outputs": [],
   "source": [
    "#create dummies\n",
    "listings_new['neighbourhood_cleansed'] = pd.get_dummies(listings['neighbourhood_cleansed'])\n",
    "listings_new['property_type'] = pd.get_dummies(listings['property_type'])\n",
    "listings_new['bed_type'] = pd.get_dummies(listings['bed_type'])\n",
    "listings_new['cancellation_policy'] = pd.get_dummies(listings['cancellation_policy'])\n",
    "listings_new['room_type'] = pd.get_dummies(listings['room_type'])"
   ]
  },
  {
   "cell_type": "code",
   "execution_count": 107,
   "metadata": {},
   "outputs": [],
   "source": [
    "# unwanted columns\n",
    "listings_new.drop(['id', 'host_name', 'last_scraped', 'host_since', 'host_location', 'host_about', \n",
    "                   'amenities', 'neighbourhood','' 'longitude', 'latitude', 'first_review', 'last_review'],\n",
    "                  axis = 1, inplace=True)"
   ]
  },
  {
   "cell_type": "code",
   "execution_count": 108,
   "metadata": {},
   "outputs": [
    {
     "data": {
      "text/plain": [
       "Index(['host_is_superhost', 'host_has_profile_pic', 'host_identity_verified',\n",
       "       'neighbourhood_cleansed', 'property_type', 'room_type', 'accommodates',\n",
       "       'bathrooms', 'bedrooms', 'beds', 'bed_type', 'price',\n",
       "       'security_deposit', 'cleaning_fee', 'guests_included', 'extra_people',\n",
       "       'minimum_nights', 'number_of_reviews', 'review_scores_accuracy',\n",
       "       'review_scores_cleanliness', 'review_scores_checkin',\n",
       "       'review_scores_communication', 'review_scores_location',\n",
       "       'review_scores_value', 'instant_bookable', 'cancellation_policy',\n",
       "       'require_guest_profile_picture', 'require_guest_phone_verification',\n",
       "       'calculated_host_listings_count', 'list_duration', 'host_duration',\n",
       "       'estimated_revenue'],\n",
       "      dtype='object')"
      ]
     },
     "execution_count": 108,
     "metadata": {},
     "output_type": "execute_result"
    }
   ],
   "source": [
    "listings_new.columns"
   ]
  },
  {
   "cell_type": "code",
   "execution_count": 109,
   "metadata": {},
   "outputs": [
    {
     "data": {
      "text/plain": [
       "price                               1.000000\n",
       "accommodates                        0.344252\n",
       "bedrooms                            0.308649\n",
       "estimated_revenue                   0.291065\n",
       "cleaning_fee                        0.286026\n",
       "beds                                0.283862\n",
       "bathrooms                           0.224317\n",
       "guests_included                     0.182868\n",
       "room_type                           0.167084\n",
       "extra_people                        0.100127\n",
       "security_deposit                    0.093988\n",
       "review_scores_location              0.091143\n",
       "neighbourhood_cleansed              0.059743\n",
       "cancellation_policy                 0.054991\n",
       "minimum_nights                      0.040898\n",
       "host_duration                       0.025056\n",
       "host_is_superhost                   0.018995\n",
       "list_duration                       0.017855\n",
       "require_guest_phone_verification    0.016263\n",
       "review_scores_checkin               0.012766\n",
       "review_scores_communication         0.007014\n",
       "require_guest_profile_picture       0.006607\n",
       "bed_type                            0.006603\n",
       "host_has_profile_pic                0.005174\n",
       "review_scores_cleanliness           0.004320\n",
       "host_identity_verified              0.002045\n",
       "instant_bookable                   -0.002230\n",
       "review_scores_value                -0.010450\n",
       "review_scores_accuracy             -0.011055\n",
       "calculated_host_listings_count     -0.013242\n",
       "property_type                      -0.027731\n",
       "number_of_reviews                  -0.063661\n",
       "Name: price, dtype: float64"
      ]
     },
     "execution_count": 109,
     "metadata": {},
     "output_type": "execute_result"
    }
   ],
   "source": [
    "# correlation\n",
    "corr_matrix = listings_new.corr()\n",
    "corr_matrix['price'].sort_values(ascending=False)"
   ]
  },
  {
   "cell_type": "code",
   "execution_count": 110,
   "metadata": {},
   "outputs": [
    {
     "data": {
      "image/png": "[encoded data removed]",
      "text/plain": [
       "<Figure size 1080x720 with 2 Axes>"
      ]
     },
     "metadata": {},
     "output_type": "display_data"
    }
   ],
   "source": [
    "#correlation heatmap\n",
    "corr = listings_new.corr()\n",
    "mask = np.zeros_like(corr)\n",
    "mask[np.triu_indices_from(mask)] = True\n",
    "with sns.axes_style(\"white\"):\n",
    "    f, ax = plt.subplots(figsize=(15, 10))\n",
    "    ax = sns.heatmap(corr, mask=mask, vmax=.3, square=True)"
   ]
  },
  {
   "cell_type": "markdown",
   "metadata": {},
   "source": [
    "# Modelling\n",
    "One of the most important attributes of a listing is it's price. So, let's try to predict the price of a listing given it's other features.\n"
   ]
  },
  {
   "cell_type": "code",
   "execution_count": 111,
   "metadata": {},
   "outputs": [
    {
     "name": "stdout",
     "output_type": "stream",
     "text": [
      "all set\n"
     ]
    }
   ],
   "source": [
    "# modelling\n",
    "from sklearn.preprocessing import StandardScaler \n",
    "from pandas.plotting import scatter_matrix\n",
    "from sklearn.model_selection import train_test_split\n",
    "from sklearn.linear_model import LinearRegression\n",
    "import xgboost as xgb\n",
    "from sklearn.ensemble import AdaBoostRegressor\n",
    "from sklearn.tree import DecisionTreeRegressor\n",
    "from sklearn.ensemble import RandomForestRegressor\n",
    "from sklearn.neighbors import KNeighborsRegressor\n",
    "from sklearn.svm import SVR\n",
    "from sklearn.metrics import mean_squared_error, r2_score\n",
    "from sklearn.model_selection import GridSearchCV\n",
    "import statsmodels.api as sm\n",
    "\n",
    "print('all set')"
   ]
  },
  {
   "cell_type": "code",
   "execution_count": 114,
   "metadata": {},
   "outputs": [],
   "source": [
    "# target split\n",
    "X = listings_new.drop(['price'], axis = 1)\n",
    "y = listings_new['price']"
   ]
  },
  {
   "cell_type": "code",
   "execution_count": 115,
   "metadata": {},
   "outputs": [],
   "source": [
    "# standardize features\n",
    "sc = StandardScaler()\n",
    "X_scaled = sc.fit_transform(X)"
   ]
  },
  {
   "cell_type": "code",
   "execution_count": 124,
   "metadata": {},
   "outputs": [],
   "source": [
    "# Splitting into train and test sets\n",
    "X_train, X_test, y_train, y_test = train_test_split(X_scaled, y, test_size=0.3, random_state=123)"
   ]
  },
  {
   "cell_type": "markdown",
   "metadata": {},
   "source": [
    "<b>Linear Regression</b>"
   ]
  },
  {
   "cell_type": "code",
   "execution_count": 117,
   "metadata": {},
   "outputs": [
    {
     "name": "stdout",
     "output_type": "stream",
     "text": [
      "The selected features are : ['host_is_superhost', 'neighbourhood_cleansed', 'property_type', 'room_type', 'accommodates', 'bathrooms', 'bedrooms', 'beds', 'cleaning_fee', 'extra_people', 'minimum_nights', 'number_of_reviews', 'review_scores_location', 'review_scores_value', 'instant_bookable', 'calculated_host_listings_count', 'estimated_revenue']\n"
     ]
    }
   ],
   "source": [
    "# select important feature for Linear Regression\n",
    "X1 = sm.add_constant(X_train)\n",
    "ols = sm.OLS(y_train,X1)\n",
    "lr = ols.fit()\n",
    "\n",
    "selected_features = list(X.columns)\n",
    "pmax = 1\n",
    "while (len(selected_features)>0):\n",
    "    p= []\n",
    "    X_1 = X[selected_features]\n",
    "    X_1 = sm.add_constant(X_1)\n",
    "    model = sm.OLS(y,X_1).fit()\n",
    "    p = pd.Series(model.pvalues.values[1:],index = selected_features)      \n",
    "    pmax = max(p)\n",
    "    feature_with_p_max = p.idxmax()\n",
    "    if(pmax>0.05):\n",
    "        selected_features.remove(feature_with_p_max)\n",
    "    else:\n",
    "        break  \n",
    "        \n",
    "print('The selected features are :', selected_features)"
   ]
  },
  {
   "cell_type": "code",
   "execution_count": 122,
   "metadata": {},
   "outputs": [],
   "source": [
    "X_selected = listings_new[['host_is_superhost', 'neighbourhood_cleansed', 'property_type', \n",
    "                              'room_type', 'accommodates', 'bathrooms', 'bedrooms', 'beds', \n",
    "                              'cleaning_fee', 'extra_people', 'minimum_nights', 'number_of_reviews', \n",
    "                              'review_scores_location', 'review_scores_value', 'instant_bookable',\n",
    "                              'calculated_host_listings_count', 'estimated_revenue']]"
   ]
  },
  {
   "cell_type": "code",
   "execution_count": 125,
   "metadata": {},
   "outputs": [],
   "source": [
    "# Splitting for regression with the selected features\n",
    "X_train_lr, X_test_lr, y_train_lr, y_test_lr = train_test_split(X_selected, y, test_size=0.3, random_state=123)"
   ]
  },
  {
   "cell_type": "code",
   "execution_count": 126,
   "metadata": {},
   "outputs": [
    {
     "data": {
      "text/plain": [
       "LinearRegression(copy_X=True, fit_intercept=True, n_jobs=None, normalize=False)"
      ]
     },
     "execution_count": 126,
     "metadata": {},
     "output_type": "execute_result"
    }
   ],
   "source": [
    "# Linear Regression\n",
    "regressor = LinearRegression()\n",
    "regressor.fit(X_train_lr, y_train_lr)"
   ]
  },
  {
   "cell_type": "code",
   "execution_count": 127,
   "metadata": {},
   "outputs": [],
   "source": [
    "#make prediction\n",
    "y_pred_lr = regressor.predict(X_test_lr)"
   ]
  },
  {
   "cell_type": "code",
   "execution_count": 129,
   "metadata": {},
   "outputs": [
    {
     "name": "stdout",
     "output_type": "stream",
     "text": [
      "The R^2 value for Linear Regression is        : 0.359\n"
     ]
    }
   ],
   "source": [
    "print('The R^2 value for Linear Regression is :', round((r2_score(y_test_lr,y_pred_lr)), 3))"
   ]
  },
  {
   "cell_type": "code",
   "execution_count": 131,
   "metadata": {},
   "outputs": [
    {
     "name": "stdout",
     "output_type": "stream",
     "text": [
      "The Adj R2 value for Linear Regression is : 0.358\n"
     ]
    }
   ],
   "source": [
    "print('The Adj R2 value for Linear Regression is :', round((1 - (1-r2_score(y_test_lr,y_pred_lr))*(len(y)-1)/(len(y)-X_selected.shape[1]-1)),3))"
   ]
  },
  {
   "cell_type": "code",
   "execution_count": 132,
   "metadata": {},
   "outputs": [
    {
     "name": "stdout",
     "output_type": "stream",
     "text": [
      "The RMSE value for Linear Regression is        : 76.0\n"
     ]
    }
   ],
   "source": [
    "MSE_lr  = mean_squared_error(y_test_lr,y_pred_lr)\n",
    "print('The RMSE value for Linear Regression is        :', round(np.sqrt(MSE_lr)));"
   ]
  },
  {
   "cell_type": "code",
   "execution_count": 133,
   "metadata": {},
   "outputs": [
    {
     "data": {
      "text/plain": [
       "Text(0.5, 1.0, 'Linear Regression')"
      ]
     },
     "execution_count": 133,
     "metadata": {},
     "output_type": "execute_result"
    },
    {
     "data": {
      "image/png": "[encoded data removed]",
      "text/plain": [
       "<Figure size 432x288 with 1 Axes>"
      ]
     },
     "metadata": {
      "needs_background": "light"
     },
     "output_type": "display_data"
    }
   ],
   "source": [
    "# regression plot\n",
    "plt.scatter(y_test_lr, y_pred_lr)\n",
    "plt.xlabel(\"Actual price\")\n",
    "plt.ylabel(\"Predicted price\")\n",
    "plt.title(\"Linear Regression\")"
   ]
  },
  {
   "cell_type": "code",
   "execution_count": 142,
   "metadata": {},
   "outputs": [
    {
     "name": "stdout",
     "output_type": "stream",
     "text": [
      "The best hyper-parameters for XGBBoost are:  {'learning_rate': 0.01, 'max_depth': 5, 'n_estimators': 250}\n"
     ]
    }
   ],
   "source": [
    "# XGboost tuning\n",
    "tuned_parameters = [{'max_depth': [5,10, 20, 30],'learning_rate':[0.001, 0.01, 0.1, 1], 'n_estimators': [100,150, 200, 250]}]\n",
    "MSE_xgb = ['mean_squared_error(y_test,y_pred2)']\n",
    "for value in MSE_xgb:\n",
    "    regr = GridSearchCV(xgb.XGBRegressor(silent = True), tuned_parameters, cv=4)\n",
    "    regr.fit(X_train, y_train)\n",
    "    y_true, y_pred2 = y_test, regr.predict(X_test)\n",
    "    \n",
    "print('The best hyper-parameters for XGBBoost are: ',regr.best_params_)"
   ]
  },
  {
   "cell_type": "code",
   "execution_count": 143,
   "metadata": {},
   "outputs": [
    {
     "data": {
      "text/plain": [
       "XGBRegressor(base_score=0.5, booster='gbtree', colsample_bylevel=1,\n",
       "             colsample_bynode=1, colsample_bytree=1, gamma=0,\n",
       "             importance_type='gain', learning_rate=0.01, max_delta_step=0,\n",
       "             max_depth=5, min_child_weight=1, missing=None, n_estimators=150,\n",
       "             n_jobs=1, nthread=None, objective='reg:linear', random_state=0,\n",
       "             reg_alpha=0, reg_lambda=1, scale_pos_weight=1, seed=None,\n",
       "             silent=True, subsample=1, verbosity=1)"
      ]
     },
     "execution_count": 143,
     "metadata": {},
     "output_type": "execute_result"
    }
   ],
   "source": [
    "# XGBoost\n",
    "regr = xgb.XGBRegressor(learning_rate=0.01, max_depth=5, n_estimators=150, random_state = 0, silent = True)\n",
    "regr.fit(X_train, y_train)"
   ]
  },
  {
   "cell_type": "code",
   "execution_count": 144,
   "metadata": {},
   "outputs": [
    {
     "name": "stdout",
     "output_type": "stream",
     "text": [
      "The R^2 value for XGBoost Regressor is : 0.061\n"
     ]
    }
   ],
   "source": [
    "y_pred2 = regr.predict(X_test)\n",
    "print('The R^2 value for XGBoost Regressor is :', round((r2_score(y_test,y_pred2)), 3))"
   ]
  },
  {
   "cell_type": "code",
   "execution_count": 145,
   "metadata": {},
   "outputs": [
    {
     "name": "stdout",
     "output_type": "stream",
     "text": [
      "The Adj R2 value for XGBoost Regressor is : 0.059\n"
     ]
    }
   ],
   "source": [
    "print('The Adj R2 value for XGBoost Regressor is :', round((1 - (1-r2_score(y_test,y_pred2))*(len(y)-1)/(len(y)-X.shape[1]-1)),3))"
   ]
  },
  {
   "cell_type": "code",
   "execution_count": 146,
   "metadata": {},
   "outputs": [
    {
     "name": "stdout",
     "output_type": "stream",
     "text": [
      "The RMSE value for XGBoost Regressor is : 92.0\n"
     ]
    }
   ],
   "source": [
    "MSE_xgb = mean_squared_error(y_test,y_pred2)\n",
    "print('The RMSE value for XGBoost Regressor is :', round(np.sqrt(MSE_xgb)));"
   ]
  },
  {
   "cell_type": "code",
   "execution_count": 147,
   "metadata": {},
   "outputs": [
    {
     "data": {
      "text/plain": [
       "Text(0.5, 1.0, 'Xgboost')"
      ]
     },
     "execution_count": 147,
     "metadata": {},
     "output_type": "execute_result"
    },
    {
     "data": {
      "image/png": "[encoded data removed]",
      "text/plain": [
       "<Figure size 432x288 with 1 Axes>"
      ]
     },
     "metadata": {
      "needs_background": "light"
     },
     "output_type": "display_data"
    }
   ],
   "source": [
    "plt.scatter(y_test, y_pred2)\n",
    "plt.xlabel(\"Actual price\")\n",
    "plt.ylabel(\"Predicted price\")\n",
    "plt.title(\"Xgboost\")"
   ]
  },
  {
   "cell_type": "code",
   "execution_count": 134,
   "metadata": {},
   "outputs": [
    {
     "name": "stdout",
     "output_type": "stream",
     "text": [
      "The best hyper-parameters for Random Forests are:  {'max_depth': 70, 'n_estimators': 100}\n"
     ]
    }
   ],
   "source": [
    "# Random Forests tuning\n",
    "tuned_parameters = [{'max_depth': [5,10, 20, 50, 70], 'n_estimators': [10, 25, 50, 100,150]}]\n",
    "MSE_rf = ['mean_squared_error(y_test, y_pred5)']\n",
    "for value in MSE_rf:\n",
    "    regr_rf = GridSearchCV(RandomForestRegressor(), tuned_parameters, cv=4)\n",
    "    regr_rf.fit(X_train, y_train)\n",
    "    y_true, y_pred5 = y_test, regr_rf.predict(X_test)\n",
    "    \n",
    "print('The best hyper-parameters for Random Forests are: ',regr_rf.best_params_)"
   ]
  },
  {
   "cell_type": "code",
   "execution_count": 137,
   "metadata": {},
   "outputs": [
    {
     "data": {
      "text/plain": [
       "RandomForestRegressor(bootstrap=True, ccp_alpha=0.0, criterion='mse',\n",
       "                      max_depth=70, max_features='auto', max_leaf_nodes=None,\n",
       "                      max_samples=None, min_impurity_decrease=0.0,\n",
       "                      min_impurity_split=None, min_samples_leaf=1,\n",
       "                      min_samples_split=2, min_weight_fraction_leaf=0.0,\n",
       "                      n_estimators=100, n_jobs=None, oob_score=False,\n",
       "                      random_state=0, verbose=0, warm_start=False)"
      ]
     },
     "execution_count": 137,
     "metadata": {},
     "output_type": "execute_result"
    }
   ],
   "source": [
    "# Random Forests using the tuned features\n",
    "regr_rf = RandomForestRegressor(max_depth=70, random_state=0,\n",
    "                             n_estimators=100)\n",
    "regr_rf.fit(X_train, y_train)"
   ]
  },
  {
   "cell_type": "code",
   "execution_count": 138,
   "metadata": {},
   "outputs": [
    {
     "name": "stdout",
     "output_type": "stream",
     "text": [
      "The R^2 value for Random Forests Regressor is : 0.916\n"
     ]
    }
   ],
   "source": [
    "y_pred5 = regr_rf.predict(X_test)\n",
    "print('The R^2 value for Random Forests Regressor is :', round((r2_score(y_test,y_pred5)), 3))"
   ]
  },
  {
   "cell_type": "code",
   "execution_count": 139,
   "metadata": {},
   "outputs": [
    {
     "name": "stdout",
     "output_type": "stream",
     "text": [
      "The Adj R2 value for Random Forests Regressor is : 0.916\n"
     ]
    }
   ],
   "source": [
    "print('The Adj R2 value for Random Forests Regressor is :', round((1 - (1-r2_score(y_test,y_pred5))*(len(y)-1)/(len(y)-X.shape[1]-1)),3))"
   ]
  },
  {
   "cell_type": "code",
   "execution_count": 140,
   "metadata": {},
   "outputs": [
    {
     "name": "stdout",
     "output_type": "stream",
     "text": [
      "The RMSE value for Random Forests Regressor is : 27.0\n"
     ]
    }
   ],
   "source": [
    "MSE_rf  = mean_squared_error(y_test,y_pred5)\n",
    "print('The RMSE value for Random Forests Regressor is :', round(np.sqrt(MSE_rf)));"
   ]
  },
  {
   "cell_type": "code",
   "execution_count": 141,
   "metadata": {},
   "outputs": [
    {
     "data": {
      "text/plain": [
       "Text(0.5, 1.0, 'Random Forest')"
      ]
     },
     "execution_count": 141,
     "metadata": {},
     "output_type": "execute_result"
    },
    {
     "data": {
      "image/png": "[encoded data removed]",
      "text/plain": [
       "<Figure size 432x288 with 1 Axes>"
      ]
     },
     "metadata": {
      "needs_background": "light"
     },
     "output_type": "display_data"
    }
   ],
   "source": [
    "plt.scatter(y_test, y_pred5)\n",
    "plt.xlabel(\"Actual price\")\n",
    "plt.ylabel(\"Predicted price\")\n",
    "plt.title(\"Random Forest\")"
   ]
  },
  {
   "cell_type": "markdown",
   "metadata": {},
   "source": [
    "We can see from the results above that Tuned Random Forest Regressor is the best fit model amongst the three compared here. It produced the highest R squared value and the lowest RMSE while XGBoost appear to be the least fit model with reverse scores.\n",
    "There are many other options that can be explored like GBM etc."
   ]
  }
 ],
 "metadata": {
  "kernelspec": {
   "display_name": "Python 3",
   "language": "python",
   "name": "python3"
  },
  "language_info": {
   "codemirror_mode": {
    "name": "ipython",
    "version": 3
   },
   "file_extension": ".py",
   "mimetype": "text/x-python",
   "name": "python",
   "nbconvert_exporter": "python",
   "pygments_lexer": "ipython3",
   "version": "3.7.3"
  }
 },
 "nbformat": 4,
 "nbformat_minor": 4
}
